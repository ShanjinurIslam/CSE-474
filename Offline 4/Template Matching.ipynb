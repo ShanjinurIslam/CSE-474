{
 "cells": [
  {
   "cell_type": "code",
   "execution_count": 2,
   "metadata": {},
   "outputs": [],
   "source": [
    "import cv2\n",
    "import numpy as np\n",
    "from math import ceil,floor"
   ]
  },
  {
   "cell_type": "code",
   "execution_count": 3,
   "metadata": {},
   "outputs": [],
   "source": [
    "vidObj = cv2.VideoCapture('input.mov') \n",
    "\n",
    "frames = []\n",
    "input_frames = []\n",
    "\n",
    "count = 0\n",
    "success = 1\n",
    "\n",
    "while success: \n",
    "    success, image = vidObj.read()     \n",
    "    if image is None:\n",
    "        break\n",
    "    \n",
    "    frames.append(image)\n",
    "    input_frames.append(cv2.cvtColor(image,cv2.COLOR_BGR2GRAY)/255) # grayscale conversion"
   ]
  },
  {
   "cell_type": "code",
   "execution_count": 5,
   "metadata": {},
   "outputs": [],
   "source": [
    "def ExhaustiveSearch(t,r):\n",
    "    M,N = r.shape[0],r.shape[1]\n",
    "    I,J = t.shape[0],t.shape[1]\n",
    "    \n",
    "    count = 0\n",
    "    \n",
    "    best_node = [0,0]\n",
    "    max_correlation = 10e10\n",
    "    \n",
    "    for m in range(I-M+1): #\n",
    "        for n in range(J-N+1): #\n",
    "            current_correlation = 0\n",
    "            for i in range(m,m+M-1):\n",
    "                for j in range(n,n+N-1):\n",
    "                    current_correlation += t[i][j]*r[i-m][j-n]\n",
    "                    \n",
    "            if(m%100==0):\n",
    "                if(n%100==0):\n",
    "                    print(m,n,current_correlation)\n",
    "            \n",
    "            if(current_correlation<max_correlation):\n",
    "                max_correlation = current_correlation\n",
    "                best_node = [m,n]\n",
    "    \n",
    "    return best_node,max_correlation"
   ]
  },
  {
   "cell_type": "code",
   "execution_count": 6,
   "metadata": {},
   "outputs": [],
   "source": [
    "reference = cv2.imread('reference.jpg', cv2.IMREAD_GRAYSCALE)/255"
   ]
  },
  {
   "cell_type": "code",
   "execution_count": 7,
   "metadata": {},
   "outputs": [
    {
     "name": "stdout",
     "output_type": "stream",
     "text": [
      "247 137 3588.946220684356\n"
     ]
    }
   ],
   "source": [
    "#[X,Y],max_correlation = ExhaustiveSearch(input_frames[0],reference)\n",
    "[X,Y],max_correlation = [247,137], 3588.946220684356\n",
    "M,N = reference.shape[0],reference.shape[1]\n",
    "\n",
    "print(X,Y,max_correlation)"
   ]
  },
  {
   "cell_type": "code",
   "execution_count": 8,
   "metadata": {},
   "outputs": [],
   "source": [
    "def ExhaustiveSearchUsingCenter(t,r,X,Y,p):\n",
    "    M,N = r.shape[0],r.shape[1]\n",
    "    I,J = t.shape[0],t.shape[1]\n",
    "    \n",
    "    count = 0\n",
    "    \n",
    "    best_node = [0,0]\n",
    "    max_correlation = 10e10\n",
    "    nos = 0\n",
    "    \n",
    "    for m in range(X-p,X+p): # O(2p + 1)\n",
    "        for n in range(Y-p,Y+p): # O(2p + 1) \n",
    "            if m >= I-M or n >= J-N:\n",
    "                continue\n",
    "            \n",
    "            current_correlation = 0\n",
    "            nos += 1\n",
    "            for i in range(m,m+M-1): # O(M) \n",
    "                for j in range(n,n+N-1): # O(N)\n",
    "                    current_correlation += t[i][j]*r[i-m][j-n]\n",
    "            '''   \n",
    "            if(previous_correlation >= current_correlation):\n",
    "                max_correlation = current_correlation\n",
    "                best_node = [m,n]\n",
    "                break\n",
    "            '''\n",
    "            \n",
    "            if(current_correlation<max_correlation):\n",
    "                max_correlation = current_correlation\n",
    "                best_node = [m,n]\n",
    "                \n",
    "    return best_node,max_correlation,nos"
   ]
  },
  {
   "cell_type": "code",
   "execution_count": 9,
   "metadata": {},
   "outputs": [],
   "source": [
    "def twoDimensionalLogarithmicSearch(t,r,X,Y,p):\n",
    "    M,N = r.shape[0],r.shape[1]\n",
    "    I,J = t.shape[0],t.shape[1]\n",
    "    \n",
    "    count = 0\n",
    "    \n",
    "    best_node = [X,Y]\n",
    "    \n",
    "    max_correlation = 10e10\n",
    "    \n",
    "    div = p\n",
    "    best_sum = 0\n",
    "    \n",
    "    while True:\n",
    "        arr = [floor(-div/2),0,ceil(div/2)]\n",
    "        #print(max_correlation)\n",
    "        cur = 0 \n",
    "        best = 1\n",
    "        for m in arr:\n",
    "            for n in arr: \n",
    "                x,y = X+m,Y+n\n",
    "                \n",
    "                if x >= I-M or y >= J-N:\n",
    "                    continue\n",
    "                \n",
    "                cur += 1\n",
    "                current_correlation = 0\n",
    "                \n",
    "                for i in range(x,x+M-1):\n",
    "                    for j in range(y,y+N-1):\n",
    "                        current_correlation += t[i][j]*r[i-x][j-y]\n",
    "                \n",
    "                if(current_correlation<max_correlation):\n",
    "                    max_correlation = current_correlation\n",
    "                    best_node = [x,y]\n",
    "                    best = cur\n",
    "                \n",
    "        [X,Y] = best_node\n",
    "        best_sum += best\n",
    "        div = int(div/2)\n",
    "        \n",
    "        if(div<1):\n",
    "            break\n",
    "    \n",
    "    return best_node,max_correlation,np.log2(best_sum)\n"
   ]
  },
  {
   "cell_type": "code",
   "execution_count": 10,
   "metadata": {},
   "outputs": [],
   "source": [
    "def outline_creator(frame,center_x,center_y,M,N):\n",
    "    for i in range(center_x-5,center_x+M+5):\n",
    "        frame[i][center_y] = [0,0,255]\n",
    "        frame[i][center_y+N+5] = [0,0,255]\n",
    "    \n",
    "    for j in range(center_y,center_y+N+5):\n",
    "        frame[center_x-5][j] = [0,0,255]\n",
    "        frame[center_x+M+5][j] = [0,0,255]\n",
    "            \n",
    "    return frame    "
   ]
  },
  {
   "cell_type": "code",
   "execution_count": 11,
   "metadata": {},
   "outputs": [],
   "source": [
    "def output_frames_ExhaustiveSearch(frames,input_frames,reference,X,Y,p,first_frame_output):\n",
    "    output = []\n",
    "    output.append(first_frame_output)\n",
    "    M,N = reference.shape[0],reference.shape[1]\n",
    "    \n",
    "    total = 0\n",
    "    \n",
    "    for i in range(1,len(frames)):\n",
    "        [X,Y],max_correlation,best = ExhaustiveSearchUsingCenter(input_frames[i],reference,X,Y,p)\n",
    "        total += best\n",
    "        print(X,Y)\n",
    "        output.append(outline_creator(frames[i],X,Y,M,N))\n",
    "    \n",
    "    return output,int(total/(len(frames)-1))"
   ]
  },
  {
   "cell_type": "code",
   "execution_count": 12,
   "metadata": {},
   "outputs": [],
   "source": [
    "#twoDimensionalLogarithmicSearch(input_frames[1],reference,247,137,7)\n",
    "\n",
    "def output_frames_2DLogSearch(frames,input_frames,reference,X,Y,p,first_frame_output):\n",
    "    output = []\n",
    "    output.append(first_frame_output)\n",
    "    M,N = reference.shape[0],reference.shape[1]\n",
    "    \n",
    "    total = 0\n",
    "    \n",
    "    for i in range(1,len(frames)):\n",
    "        [X,Y],max_correlation,best = twoDimensionalLogarithmicSearch(input_frames[i],reference,X,Y,p)\n",
    "        total += best\n",
    "        output.append(outline_creator(frames[i],X,Y,M,N))\n",
    "    \n",
    "    return output,int(total/(len(frames)-1))"
   ]
  },
  {
   "cell_type": "code",
   "execution_count": 13,
   "metadata": {},
   "outputs": [],
   "source": [
    "def filter_scale(img,scale,filter=False):\n",
    "    width = int(img.shape[1]/ scale)\n",
    "    height = int(img.shape[0]/ scale)\n",
    "    dim = (width, height)\n",
    "\n",
    "    if filter:\n",
    "        img = cv2.GaussianBlur(img,(5,5),0)\n",
    "        resized = cv2.resize(img, dim, interpolation = cv2.INTER_AREA)\n",
    "        #converted = cv2.cvtColor(resized,cv2.COLOR_BGR2GRAY)\n",
    "        return resized\n",
    "    else:\n",
    "        return img"
   ]
  },
  {
   "cell_type": "code",
   "execution_count": 14,
   "metadata": {},
   "outputs": [],
   "source": [
    "def hierarchicalSearch(t,r,X,Y,p):\n",
    "    frames = []\n",
    "    refs = []\n",
    "    \n",
    "    for i in range(3):\n",
    "        scale = pow(2,i)\n",
    "        \n",
    "        if(scale>1):\n",
    "            t = filter_scale(t,scale,filter=True) # level 0 -> 1 -> 2\n",
    "            r = filter_scale(r,scale,filter=True) # level 0 -> 1 -> 2\n",
    "            frames.append(t)\n",
    "            refs.append(r)\n",
    "        else:\n",
    "            frames.append(t)\n",
    "            refs.append(r)\n",
    "\n",
    "    # Level 2\n",
    "    \n",
    "    [x1,y1],max_correlation,best_level_2 = twoDimensionalLogarithmicSearch(frames[2],refs[2],X//4,Y//4,p//4)\n",
    "    \n",
    "    [x1,y1] = [x1-X//4,y1-Y//4] # remove bias values\n",
    "    \n",
    "    # Level 1\n",
    "    \n",
    "    [x2,y2],max_correlation,best_level_1 = twoDimensionalLogarithmicSearch(frames[1],refs[1],(X//2)+2*x1,(Y//2)+2*y1,p//2)\n",
    "    \n",
    "    [x2,y2] = [x2-(X//2),y2-(Y//2)]\n",
    "\n",
    "    # Level 0\n",
    "    \n",
    "    best_node,max_correlation,best_level_0 = twoDimensionalLogarithmicSearch(frames[0],refs[0],(X)+2*x2,(Y)+2*y2,p)\n",
    "    \n",
    "    best = best_level_0 + best_level_1 + best_level_2\n",
    "    \n",
    "    return best_node,max_correlation,int(best)\n",
    "\n",
    "def output_frames_hierarchicalSearch(frames,input_frames,reference,X,Y,p,first_frame_output):\n",
    "    output = []\n",
    "    output.append(first_frame_output)\n",
    "    M,N = reference.shape[0],reference.shape[1]\n",
    "    \n",
    "    total = 0\n",
    "    \n",
    "    for i in range(1,len(frames)):\n",
    "        [X,Y],max_correlation,best = hierarchicalSearch(input_frames[i],reference,X,Y,p)\n",
    "        #print(X,Y)\n",
    "        total += best\n",
    "        output.append(outline_creator(frames[i],X,Y,M,N))\n",
    "    \n",
    "    return output,int(total/(len(frames)-1))"
   ]
  },
  {
   "cell_type": "code",
   "execution_count": 22,
   "metadata": {
    "tags": []
   },
   "outputs": [
    {
     "name": "stdout",
     "output_type": "stream",
     "text": [
      "247 137\n"
     ]
    }
   ],
   "source": [
    "first_frame_output = outline_creator(frames[0],X,Y,M,N)\n",
    "print(X,Y)\n",
    "# file = open(\"Performance.txt\",\"w\")\n",
    "p_vals = [3]\n",
    "\n",
    "for p in p_vals:\n",
    "    # output_frames,p_es = output_frames_ExhaustiveSearch(frames,input_frames,reference,X,Y,p,first_frame_output)\n",
    "    # output_frames,p_2dlog = output_frames_2DLogSearch(frames,input_frames,reference,X,Y,p,first_frame_output)\n",
    "    output_frames,p_hirar = output_frames_hierarchicalSearch(frames,input_frames,reference,X,Y,p,first_frame_output)\n",
    "    #file.write(str(p)+str(p_es)+str(p_2dlog)+str(p_hirar)+\"\\n\")\n",
    "    \n",
    "# file.close()\n",
    "# EXHAUSTIVE\n",
    "\n",
    "# output_frames = output_frames_ExhaustiveSearch(frames,input_frames,reference,X,Y,2,first_frame_output,max_correlation)\n",
    "\n",
    "# 2D LOGARITHMIC\n",
    "\n",
    "# output_frames = output_frames_2DLogSearch(frames,input_frames,reference,X,Y,20,first_frame_output)\n",
    "\n",
    "#output_frames = output_frames_hierarchicalSearch(frames,input_frames,reference,X,Y,20,first_frame_output)"
   ]
  },
  {
   "cell_type": "code",
   "execution_count": 23,
   "metadata": {},
   "outputs": [],
   "source": [
    "# outpuut generation\n",
    "\n",
    "cap = cv2.VideoCapture('input.mov')\n",
    "fourcc = cv2.VideoWriter_fourcc(*'MPEG')\n",
    "out = cv2.VideoWriter('output.avi', fourcc, 760/13, (int(cap.get(3)),int(cap.get(4))))\n",
    "\n",
    "\n",
    "for frame in output_frames:\n",
    "    out.write(frame)\n",
    "cap.release()\n",
    "out.release()"
   ]
  },
  {
   "cell_type": "code",
   "execution_count": null,
   "metadata": {},
   "outputs": [],
   "source": []
  },
  {
   "cell_type": "code",
   "execution_count": null,
   "metadata": {},
   "outputs": [],
   "source": []
  }
 ],
 "metadata": {
  "kernelspec": {
   "display_name": "Python 3",
   "language": "python",
   "name": "python3"
  },
  "language_info": {
   "codemirror_mode": {
    "name": "ipython",
    "version": 3
   },
   "file_extension": ".py",
   "mimetype": "text/x-python",
   "name": "python",
   "nbconvert_exporter": "python",
   "pygments_lexer": "ipython3",
   "version": "3.7.4"
  }
 },
 "nbformat": 4,
 "nbformat_minor": 2
}
