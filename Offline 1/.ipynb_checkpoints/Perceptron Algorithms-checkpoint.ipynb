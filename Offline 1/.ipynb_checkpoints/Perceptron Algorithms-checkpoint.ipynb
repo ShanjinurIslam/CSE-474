{
 "cells": [
  {
   "cell_type": "code",
   "execution_count": 259,
   "metadata": {},
   "outputs": [],
   "source": [
    "import numpy as np\n",
    "np.random.seed(42)"
   ]
  },
  {
   "cell_type": "markdown",
   "metadata": {},
   "source": [
    "# Input Collection\n",
    "\n",
    "## Binary Class"
   ]
  },
  {
   "cell_type": "code",
   "execution_count": 260,
   "metadata": {},
   "outputs": [],
   "source": [
    "def generate(filename,header=False,append_one=True):\n",
    "    \n",
    "    def splitter(line):\n",
    "        var = line.split()\n",
    "        x = [float(x) for x in var[:-1]]\n",
    "        y = int(var[-1])\n",
    "        return x,y\n",
    "    \n",
    "    file = open(filename)\n",
    "    \n",
    "    X = []\n",
    "    Y = []\n",
    "    \n",
    "    lines = file.readlines()\n",
    "    size = len(lines)\n",
    "    \n",
    "    if header:\n",
    "        for i in range(1,size):\n",
    "            x,y = splitter(lines[i])\n",
    "            X.append(x)\n",
    "            Y.append(y)\n",
    "    else:\n",
    "        for i in range(0,size):\n",
    "            x,y = splitter(lines[i])\n",
    "            X.append(x)\n",
    "            Y.append(y)\n",
    "    \n",
    "    X = np.array(X)\n",
    "    Y = np.array(Y)\n",
    "    \n",
    "    if append_one:\n",
    "        X = np.insert(X,X.shape[1],values=1,axis=1)\n",
    "    \n",
    "    return X,Y"
   ]
  },
  {
   "cell_type": "code",
   "execution_count": 261,
   "metadata": {},
   "outputs": [],
   "source": [
    "X_train,Y_train = generate('Train.txt',header=True)\n",
    "X_test,Y_test = generate('Test.txt',header=False)"
   ]
  },
  {
   "cell_type": "markdown",
   "metadata": {},
   "source": [
    "## Basic Perceptron Algorithm"
   ]
  },
  {
   "cell_type": "code",
   "execution_count": 262,
   "metadata": {},
   "outputs": [],
   "source": [
    "class BasicPerceptron:\n",
    "    def __init__(self,low=-10,high=10,max_epoch=1000,lr=0.03):\n",
    "        self.w = []\n",
    "        self.low = low\n",
    "        self.high = high\n",
    "        self.max_epoch = max_epoch\n",
    "        self.lr = lr\n",
    "        pass\n",
    "    \n",
    "    def fit(self,X_train,Y_train):\n",
    "        # setting random weight to weight vector\n",
    "        self.w = np.random.uniform(self.low,self.high,(X_train.shape[1],1))\n",
    "        \n",
    "        for i in range(self.max_epoch):\n",
    "            \n",
    "            delta = np.zeros((X_train.shape[1],1))\n",
    "            \n",
    "            for instance,target in zip(X_train,Y_train):\n",
    "                x = instance.reshape(-1,1)\n",
    "                dot_product = np.dot(self.w.T,x).ravel()[0]\n",
    "                \n",
    "                if dot_product <= 0 and target == 1:\n",
    "                    delta -= x\n",
    "                    continue\n",
    "                \n",
    "                if dot_product > 0 and target == 2:\n",
    "                    delta += x\n",
    "                    continue\n",
    "                \n",
    "            self.w = self.w - self.lr*delta\n",
    "        \n",
    "        return self.w\n",
    "    \n",
    "    def predict(self,X,Y):\n",
    "        correct = 0\n",
    "        total = len(X)\n",
    "        \n",
    "        predicted_class = -1\n",
    "        for instance,true_class in zip(X,Y):\n",
    "            x = instance.reshape(-1,1)\n",
    "            dot_product = np.dot(self.w.T,x).ravel()[0]\n",
    "            \n",
    "            if dot_product >= 0:\n",
    "                predicted_class = 1\n",
    "            if dot_product <0 :\n",
    "                predicted_class = 2\n",
    "            \n",
    "            if predicted_class == true_class:\n",
    "                correct += 1\n",
    "        return correct/total"
   ]
  },
  {
   "cell_type": "code",
   "execution_count": 263,
   "metadata": {},
   "outputs": [
    {
     "data": {
      "text/plain": [
       "(1.0, 0.96)"
      ]
     },
     "execution_count": 263,
     "metadata": {},
     "output_type": "execute_result"
    }
   ],
   "source": [
    "basicPerceptron = BasicPerceptron(low=-5,high=5)\n",
    "basicPerceptron.fit(X_train,Y_train)\n",
    "train_accuracy = basicPerceptron.predict(X_train,Y_train)\n",
    "test_accuracy = basicPerceptron.predict(X_test,Y_test)\n",
    "\n",
    "train_accuracy,test_accuracy"
   ]
  },
  {
   "cell_type": "markdown",
   "metadata": {},
   "source": [
    "## Reward and Punishment Algorithm"
   ]
  },
  {
   "cell_type": "code",
   "execution_count": 264,
   "metadata": {},
   "outputs": [],
   "source": [
    "class RP_Perceptron:\n",
    "    def __init__(self,low=-10,high=10,max_epoch=1000,lr=0.03):\n",
    "        self.w = []\n",
    "        self.low = low\n",
    "        self.high = high\n",
    "        self.max_epoch = max_epoch\n",
    "        self.lr = lr\n",
    "        pass\n",
    "    \n",
    "    def fit(self,X_train,Y_train):\n",
    "        # setting random weight to weight vector\n",
    "        self.w = np.random.uniform(self.low,self.high,(X_train.shape[1],1))\n",
    "        \n",
    "        for i in range(self.max_epoch):\n",
    "            for instance,target in zip(X_train,Y_train):\n",
    "                x = instance.reshape(-1,1)\n",
    "                dot_product = np.dot(self.w.T,x).ravel()[0]\n",
    "                \n",
    "                if dot_product > 0 and target == 2:\n",
    "                    self.w = self.w - self.lr*x\n",
    "                    \n",
    "                if dot_product <= 0 and target == 1:\n",
    "                    self.w = self.w + self.lr*x            \n",
    "        \n",
    "        return self.w\n",
    "    \n",
    "    def predict(self,X,Y):\n",
    "        correct = 0\n",
    "        total = len(X)\n",
    "        \n",
    "        predicted_class = -1\n",
    "        for instance,true_class in zip(X,Y):\n",
    "            x = instance.reshape(-1,1)\n",
    "            dot_product = np.dot(self.w.T,x).ravel()[0]\n",
    "            \n",
    "            if dot_product >= 0:\n",
    "                predicted_class = 1\n",
    "            if dot_product <0 :\n",
    "                predicted_class = 2\n",
    "            \n",
    "            if predicted_class == true_class:\n",
    "                correct += 1\n",
    "        return correct/total"
   ]
  },
  {
   "cell_type": "code",
   "execution_count": 265,
   "metadata": {},
   "outputs": [
    {
     "data": {
      "text/plain": [
       "(1.0, 0.96)"
      ]
     },
     "execution_count": 265,
     "metadata": {},
     "output_type": "execute_result"
    }
   ],
   "source": [
    "rp_Perceptron = RP_Perceptron(low=-5,high=5)\n",
    "rp_Perceptron.fit(X_train,Y_train)\n",
    "train_accuracy = rp_Perceptron.predict(X_train,Y_train)\n",
    "test_accuracy = rp_Perceptron.predict(X_test,Y_test)\n",
    "\n",
    "train_accuracy,test_accuracy"
   ]
  },
  {
   "cell_type": "markdown",
   "metadata": {},
   "source": [
    "## Pocket Algorithm"
   ]
  },
  {
   "cell_type": "code",
   "execution_count": 266,
   "metadata": {},
   "outputs": [],
   "source": [
    "class Pocket_Perceptron:\n",
    "    def __init__(self,low=-10,high=10,max_epoch=1000,lr=0.03):\n",
    "        self.w = []\n",
    "        self.low = low\n",
    "        self.high = high\n",
    "        self.max_epoch = max_epoch\n",
    "        self.lr = lr\n",
    "        self.wp = []\n",
    "        pass\n",
    "    \n",
    "    def fit(self,X_train,Y_train):\n",
    "        # setting random weight to weight vector\n",
    "        self.w = np.random.uniform(self.low,self.high,(X_train.shape[1],1))\n",
    "        self.wp = self.w\n",
    "        misclassification = len(X_train)\n",
    "        \n",
    "        for i in range(self.max_epoch):\n",
    "            count = 0\n",
    "            for instance,target in zip(X_train,Y_train):\n",
    "                x = instance.reshape(-1,1)\n",
    "                dot_product = np.dot(self.w.T,x).ravel()[0]\n",
    "                \n",
    "                if dot_product > 0 and target == 2:\n",
    "                    self.w = self.w - self.lr*x\n",
    "                    count += 1\n",
    "                    \n",
    "                if dot_product < 0 and target == 1:\n",
    "                    self.w = self.w + self.lr*x     \n",
    "                    count += 1\n",
    "            \n",
    "            if count < misclassification:\n",
    "                misclassification = count\n",
    "                self.wp = self.w\n",
    "            \n",
    "        return self.wp\n",
    "    \n",
    "    def predict(self,X,Y):\n",
    "        correct = 0\n",
    "        total = len(X)\n",
    "        \n",
    "        predicted_class = -1\n",
    "        for instance,true_class in zip(X,Y):\n",
    "            x = instance.reshape(-1,1)\n",
    "            dot_product = np.dot(self.w.T,x).ravel()[0]\n",
    "            \n",
    "            if dot_product >= 0:\n",
    "                predicted_class = 1\n",
    "            if dot_product <0 :\n",
    "                predicted_class = 2\n",
    "            \n",
    "            if predicted_class == true_class:\n",
    "                correct += 1\n",
    "        return correct/total"
   ]
  },
  {
   "cell_type": "code",
   "execution_count": 267,
   "metadata": {},
   "outputs": [
    {
     "data": {
      "text/plain": [
       "(1.0, 0.96)"
      ]
     },
     "execution_count": 267,
     "metadata": {},
     "output_type": "execute_result"
    }
   ],
   "source": [
    "pocket_Perceptron = Pocket_Perceptron(low=-5,high=5)\n",
    "pocket_Perceptron.fit(X_train,Y_train)\n",
    "train_accuracy = pocket_Perceptron.predict(X_train,Y_train)\n",
    "test_accuracy = pocket_Perceptron.predict(X_test,Y_test)\n",
    "\n",
    "train_accuracy,test_accuracy"
   ]
  },
  {
   "cell_type": "code",
   "execution_count": null,
   "metadata": {},
   "outputs": [],
   "source": []
  }
 ],
 "metadata": {
  "kernelspec": {
   "display_name": "Python 3",
   "language": "python",
   "name": "python3"
  },
  "language_info": {
   "codemirror_mode": {
    "name": "ipython",
    "version": 3
   },
   "file_extension": ".py",
   "mimetype": "text/x-python",
   "name": "python",
   "nbconvert_exporter": "python",
   "pygments_lexer": "ipython3",
   "version": "3.7.4"
  }
 },
 "nbformat": 4,
 "nbformat_minor": 2
}
