{
 "cells": [
  {
   "cell_type": "code",
   "execution_count": 7,
   "metadata": {},
   "outputs": [],
   "source": [
    "import numpy as np\n",
    "import matplotlib.pyplot as plt\n",
    "\n",
    "np.random.seed(42)"
   ]
  },
  {
   "cell_type": "code",
   "execution_count": 8,
   "metadata": {},
   "outputs": [],
   "source": [
    "# Read Inputs\n",
    "\n",
    "X = []\n",
    "file = open('train.txt')\n",
    "\n",
    "while(True):\n",
    "    bit = file.read(1)\n",
    "    if not bit:\n",
    "        break\n",
    "    else:\n",
    "        X.append(int(bit))\n",
    "\n",
    "file.close()"
   ]
  },
  {
   "cell_type": "code",
   "execution_count": 9,
   "metadata": {},
   "outputs": [],
   "source": [
    "class ChannelEqualizer:\n",
    "    def __init__(self, hk, hk_1, varience):\n",
    "        self.hk = hk\n",
    "        self.hk_1 = hk_1\n",
    "        self.varience = varience\n",
    "        self.num_of_states = 4\n",
    "        self.num_of_transitions = 2 \n",
    "        \n",
    "        # defining states\n",
    "        self.mean = {}\n",
    "        self.transition = {}\n",
    "        self.transition_probability = {}\n",
    "        self.count = {}\n",
    "        \n",
    "        for i in range(self.num_of_states):\n",
    "            self.mean[i] = {}\n",
    "            self.transition[i] = {}\n",
    "            self.transition_probability[i] = {}\n",
    "            self.count[i] = {}\n",
    "        \n",
    "        self.transition[0][0] = 0\n",
    "        self.transition[0][1] = 2\n",
    "        self.transition[1][0] = 0\n",
    "        self.transition[1][1] = 2\n",
    "        self.transition[2][0] = 1\n",
    "        self.transition[2][1] = 3\n",
    "        self.transition[3][0] = 1\n",
    "        self.transition[3][1] = 3\n",
    "        \n",
    "        for i in range(self.num_of_states):\n",
    "            for j in range(self.num_of_transitions):\n",
    "                self.mean[i][j] = np.array([0,0])\n",
    "                self.transition_probability[i][j] = 0\n",
    "                self.count[i][j] = 0\n",
    "    \n",
    "    def channel_out(self,ik,ik_1):\n",
    "        return self.hk*ik + self.hk_1*ik_1 + np.random.normal(0,self.varience)\n",
    "    \n",
    "    def train_model(self,X):\n",
    "        \n",
    "        ik_1 = 0\n",
    "        ik_2 = 0\n",
    "        xk_1 = self.channel_out(ik_1,ik_2)\n",
    "        \n",
    "        total = 0 \n",
    "        \n",
    "        for ik in X:\n",
    "            xk =  self.channel_out(ik,ik_1)\n",
    "            cluster = [xk,xk_1]\n",
    "            state = ik_1*(pow(2,1)) + ik_2*(pow(2,0))\n",
    "            \n",
    "            ik_2 = ik_1\n",
    "            ik_1 = ik\n",
    "            xk_1 = xk\n",
    "            \n",
    "            self.mean[state][ik] = np.add(self.mean[state][ik],cluster)\n",
    "            self.count[state][ik] += 1\n",
    "            \n",
    "            total += 1\n",
    "        \n",
    "        for i in range(self.num_of_states):\n",
    "            for j in range(self.num_of_transitions):\n",
    "                self.transition_probability[i][j] = self.count[i][j]/(total)\n",
    "                self.mean[i][j] = np.divide(self.mean[i][j],self.count[i][j])\n",
    "        \n",
    "        return\n",
    "\n",
    "    def plot_mean(self):\n",
    "        for i in range(self.num_of_states):\n",
    "            for j in range(self.num_of_transitions):\n",
    "                plt.scatter(model.mean[i][j][0],model.mean[i][j][1])\n",
    "                "
   ]
  },
  {
   "cell_type": "code",
   "execution_count": 10,
   "metadata": {},
   "outputs": [],
   "source": [
    "model = ChannelEqualizer(.5,1,.25)"
   ]
  },
  {
   "cell_type": "code",
   "execution_count": 11,
   "metadata": {},
   "outputs": [],
   "source": [
    "model.train_model(X)"
   ]
  },
  {
   "cell_type": "code",
   "execution_count": 12,
   "metadata": {},
   "outputs": [
    {
     "data": {
      "image/png": "[encoded data removed]",
      "text/plain": [
       "<Figure size 432x288 with 1 Axes>"
      ]
     },
     "metadata": {
      "needs_background": "light"
     },
     "output_type": "display_data"
    }
   ],
   "source": [
    "model.plot_mean()"
   ]
  },
  {
   "cell_type": "code",
   "execution_count": null,
   "metadata": {},
   "outputs": [],
   "source": []
  }
 ],
 "metadata": {
  "kernelspec": {
   "display_name": "Python 3",
   "language": "python",
   "name": "python3"
  },
  "language_info": {
   "codemirror_mode": {
    "name": "ipython",
    "version": 3
   },
   "file_extension": ".py",
   "mimetype": "text/x-python",
   "name": "python",
   "nbconvert_exporter": "python",
   "pygments_lexer": "ipython3",
   "version": "3.7.4"
  }
 },
 "nbformat": 4,
 "nbformat_minor": 2
}
