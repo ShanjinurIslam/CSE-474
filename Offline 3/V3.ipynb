{
 "cells": [
  {
   "cell_type": "code",
   "execution_count": 178,
   "metadata": {},
   "outputs": [],
   "source": [
    "import numpy as np\n",
    "import matplotlib.pyplot as plt\n",
    "from math import sqrt,pow\n",
    "from scipy.stats import multivariate_normal\n",
    "import pickle\n",
    "\n",
    "np.random.seed(42)"
   ]
  },
  {
   "cell_type": "code",
   "execution_count": 179,
   "metadata": {},
   "outputs": [],
   "source": [
    "class FileReader:\n",
    "    @staticmethod\n",
    "    def read_parameters():\n",
    "        file = open(\"parameter.txt\");\n",
    "        arr = []\n",
    "        for line in file.readlines():\n",
    "            arr.append(float(line))\n",
    "        \n",
    "        return arr[0],arr[1],arr[2]    \n",
    "    \n",
    "    @staticmethod\n",
    "    def read_file(filename):\n",
    "        try:\n",
    "            file = open(filename)\n",
    "            \n",
    "            bits = []\n",
    "            \n",
    "            while(True):\n",
    "                bit = file.read(1)\n",
    "                if not bit:\n",
    "                    break\n",
    "                else:\n",
    "                    bits.append(int(bit))\n",
    "            file.close();\n",
    "            \n",
    "            return np.array(bits)\n",
    "        except:\n",
    "            print(\"I/O Error\")"
   ]
  },
  {
   "cell_type": "code",
   "execution_count": 180,
   "metadata": {},
   "outputs": [],
   "source": [
    "train_bits = FileReader.read_file(\"train.txt\")\n",
    "test_bits = FileReader.read_file(\"test.txt\")\n",
    "hk,hk_1,var = FileReader.read_parameters() "
   ]
  },
  {
   "cell_type": "markdown",
   "metadata": {},
   "source": [
    "## Initializing Variables"
   ]
  },
  {
   "cell_type": "code",
   "execution_count": 181,
   "metadata": {},
   "outputs": [],
   "source": [
    "n = 2\n",
    "l = 2\n",
    "number_of_clusters = int(pow(2,n+l-1))"
   ]
  },
  {
   "cell_type": "code",
   "execution_count": 182,
   "metadata": {},
   "outputs": [],
   "source": [
    "def channel_out(ik,ik_1):\n",
    "    return hk*ik + hk_1*ik_1 + np.random.normal(0,var)"
   ]
  },
  {
   "cell_type": "code",
   "execution_count": 183,
   "metadata": {},
   "outputs": [],
   "source": [
    "def gen_co_var_matrix(data):\n",
    "    dataset = np.array(data)\n",
    "    mean_arr = np.array([np.mean(dataset[:,i]) for i in range(dataset.shape[1])])\n",
    "    co_var_matrix = np.zeros((dataset.shape[1],dataset.shape[1]))\n",
    "    dataset_len = dataset.shape[0]\n",
    "\n",
    "    for i in range(dataset.shape[1]):\n",
    "        for j in range(dataset.shape[1]):\n",
    "            X = dataset[:,i] - mean_arr[i]\n",
    "            Y = dataset[:,j] - mean_arr[j]\n",
    "            Z = np.multiply(X,Y)\n",
    "            total = np.sum(Z,axis=0)\n",
    "            co_var_matrix[i][j] = total/(dataset_len-1)\n",
    "\n",
    "    return co_var_matrix"
   ]
  },
  {
   "cell_type": "code",
   "execution_count": 184,
   "metadata": {},
   "outputs": [],
   "source": [
    "def fit(train_bits):\n",
    "    mean = [[0,0]]*number_of_clusters\n",
    "    co_var = [np.zeros((n,n))]*number_of_clusters\n",
    "\n",
    "    cluster_count = np.zeros(number_of_clusters)\n",
    "\n",
    "    prior_prob = np.zeros(number_of_clusters)\n",
    "    transition_prob = np.zeros((number_of_clusters,number_of_clusters))\n",
    "\n",
    "    cluster_count = [0]*number_of_clusters\n",
    "    cluster_wise_data = []\n",
    "\n",
    "    for _ in range(number_of_clusters):\n",
    "        cluster_wise_data.append([])\n",
    "        \n",
    "    ik_1 = 0\n",
    "    ik_2 = 0\n",
    "    xk_1 = channel_out(ik_1,ik_2)\n",
    "    size = len(train_bits)\n",
    "    prev = 0\n",
    "    \n",
    "    total = 0\n",
    "    \n",
    "    for ik in train_bits:\n",
    "        xk =  channel_out(ik,ik_1)\n",
    "        cluster = [xk,xk_1]\n",
    "        cluster_id = int(ik*(pow(2,2)) + ik_1*(pow(2,1)) + ik_2*(pow(2,0)))\n",
    "        \n",
    "        cluster_count[cluster_id] += 1\n",
    "        transition_prob[prev][cluster_id] += 1\n",
    "        \n",
    "        ik_2 = ik_1\n",
    "        ik_1 = ik\n",
    "        xk_1 = xk\n",
    "        prev = cluster_id\n",
    "        \n",
    "        mean[cluster_id] = np.add(mean[cluster_id],cluster)\n",
    "        cluster_wise_data[cluster_id].append(cluster)\n",
    "        cluster_count[cluster_id] += 1\n",
    "        \n",
    "        total += 1\n",
    "                \n",
    "        if(total%100000==0):\n",
    "            print(\"Done: \" + str(total/size) + \"%\")\n",
    "    \n",
    "    \n",
    "    for i in range(number_of_clusters):\n",
    "        prior_prob[i] = cluster_count[i]/total\n",
    "        mean[i] = mean[i]/cluster_count[i]\n",
    "        co_var[i] = gen_co_var_matrix(cluster_wise_data[i])\n",
    "    \n",
    "    transition_prob = transition_prob/total\n",
    "    \n",
    "    return mean,co_var,prior_prob,transition_prob"
   ]
  },
  {
   "cell_type": "code",
   "execution_count": 185,
   "metadata": {},
   "outputs": [
    {
     "name": "stdout",
     "output_type": "stream",
     "text": [
      "Done: 0.0100000010000001%\n",
      "Done: 0.0200000020000002%\n",
      "Done: 0.0300000030000003%\n",
      "Done: 0.0400000040000004%\n",
      "Done: 0.0500000050000005%\n",
      "Done: 0.0600000060000006%\n",
      "Done: 0.0700000070000007%\n",
      "Done: 0.0800000080000008%\n",
      "Done: 0.0900000090000009%\n",
      "Done: 0.100000010000001%\n",
      "Done: 0.1100000110000011%\n",
      "Done: 0.1200000120000012%\n",
      "Done: 0.1300000130000013%\n",
      "Done: 0.1400000140000014%\n",
      "Done: 0.1500000150000015%\n",
      "Done: 0.1600000160000016%\n",
      "Done: 0.1700000170000017%\n",
      "Done: 0.1800000180000018%\n",
      "Done: 0.1900000190000019%\n",
      "Done: 0.200000020000002%\n",
      "Done: 0.2100000210000021%\n",
      "Done: 0.2200000220000022%\n",
      "Done: 0.2300000230000023%\n",
      "Done: 0.2400000240000024%\n",
      "Done: 0.2500000250000025%\n",
      "Done: 0.2600000260000026%\n",
      "Done: 0.2700000270000027%\n",
      "Done: 0.2800000280000028%\n",
      "Done: 0.2900000290000029%\n",
      "Done: 0.300000030000003%\n",
      "Done: 0.3100000310000031%\n",
      "Done: 0.3200000320000032%\n",
      "Done: 0.3300000330000033%\n",
      "Done: 0.3400000340000034%\n",
      "Done: 0.3500000350000035%\n",
      "Done: 0.3600000360000036%\n",
      "Done: 0.3700000370000037%\n",
      "Done: 0.3800000380000038%\n",
      "Done: 0.3900000390000039%\n",
      "Done: 0.400000040000004%\n",
      "Done: 0.4100000410000041%\n",
      "Done: 0.4200000420000042%\n",
      "Done: 0.4300000430000043%\n",
      "Done: 0.4400000440000044%\n",
      "Done: 0.4500000450000045%\n",
      "Done: 0.4600000460000046%\n",
      "Done: 0.4700000470000047%\n",
      "Done: 0.4800000480000048%\n",
      "Done: 0.4900000490000049%\n",
      "Done: 0.500000050000005%\n",
      "Done: 0.5100000510000051%\n",
      "Done: 0.5200000520000052%\n",
      "Done: 0.5300000530000053%\n",
      "Done: 0.5400000540000054%\n",
      "Done: 0.5500000550000055%\n",
      "Done: 0.5600000560000056%\n",
      "Done: 0.5700000570000057%\n",
      "Done: 0.5800000580000058%\n",
      "Done: 0.5900000590000058%\n",
      "Done: 0.600000060000006%\n",
      "Done: 0.6100000610000061%\n",
      "Done: 0.6200000620000062%\n",
      "Done: 0.6300000630000063%\n",
      "Done: 0.6400000640000064%\n",
      "Done: 0.6500000650000065%\n",
      "Done: 0.6600000660000066%\n",
      "Done: 0.6700000670000067%\n",
      "Done: 0.6800000680000068%\n",
      "Done: 0.6900000690000069%\n",
      "Done: 0.700000070000007%\n",
      "Done: 0.7100000710000071%\n",
      "Done: 0.7200000720000072%\n",
      "Done: 0.7300000730000074%\n",
      "Done: 0.7400000740000074%\n",
      "Done: 0.7500000750000075%\n",
      "Done: 0.7600000760000076%\n",
      "Done: 0.7700000770000077%\n",
      "Done: 0.7800000780000078%\n",
      "Done: 0.7900000790000079%\n",
      "Done: 0.800000080000008%\n",
      "Done: 0.8100000810000081%\n",
      "Done: 0.8200000820000082%\n",
      "Done: 0.8300000830000083%\n",
      "Done: 0.8400000840000084%\n",
      "Done: 0.8500000850000085%\n",
      "Done: 0.8600000860000085%\n",
      "Done: 0.8700000870000087%\n",
      "Done: 0.8800000880000088%\n",
      "Done: 0.8900000890000089%\n",
      "Done: 0.900000090000009%\n",
      "Done: 0.9100000910000091%\n",
      "Done: 0.9200000920000092%\n",
      "Done: 0.9300000930000093%\n",
      "Done: 0.9400000940000094%\n",
      "Done: 0.9500000950000095%\n",
      "Done: 0.9600000960000096%\n",
      "Done: 0.9700000970000097%\n",
      "Done: 0.9800000980000098%\n",
      "Done: 0.9900000990000098%\n"
     ]
    }
   ],
   "source": [
    "mean,co_var,prior_prob,transition_prob = fit(train_bits)"
   ]
  },
  {
   "cell_type": "code",
   "execution_count": 186,
   "metadata": {},
   "outputs": [],
   "source": [
    "def generate_output_data(test_bits):\n",
    "    output_data = []\n",
    "    ik_2 = 0\n",
    "    ik_1 = 0\n",
    "        \n",
    "    xk_2 = channel_out(ik_1,ik_2)\n",
    "    xk_1 = channel_out(ik_1,ik_2)\n",
    "        \n",
    "    cluster = [xk_1,xk_2]\n",
    "    output_data.append(cluster)\n",
    "        \n",
    "    for ik in test_bits:\n",
    "        xk = channel_out(ik,ik_1)\n",
    "        cluster = [xk,xk_1]\n",
    "        output_data.append(cluster)\n",
    "        \n",
    "        xk_1 = xk\n",
    "        ik_1 = ik\n",
    "        \n",
    "        \n",
    "        \n",
    "    return output_data"
   ]
  },
  {
   "cell_type": "code",
   "execution_count": 217,
   "metadata": {},
   "outputs": [],
   "source": [
    "output_data = generate_output_data(test_bits)"
   ]
  },
  {
   "cell_type": "code",
   "execution_count": 218,
   "metadata": {},
   "outputs": [],
   "source": [
    "def predict_by_cluster(output_data):\n",
    "    num = len(output_data)\n",
    "    cost = np.zeros((num,number_of_clusters))\n",
    "    \n",
    "    for i in range(num):\n",
    "        sample = output_data[i]\n",
    "        \n",
    "        for j in range(number_of_clusters):\n",
    "            if i == 0:\n",
    "                cost[i][j] = 0\n",
    "            else:\n",
    "                cluster_center = mean[j]\n",
    "                cost[i][j] = sqrt(pow(sample[0] - cluster_center[0], 2) + pow(sample[1] - cluster_center[1], 2))\n",
    "                cost[i][j] += min(cost[i-1])\n",
    "    \n",
    "    recovered = []\n",
    "    for i in range(num-1,0,-1):\n",
    "        cluster = np.argmin(cost[i])\n",
    "        \n",
    "        if(cluster<4):\n",
    "            recovered.append(0)\n",
    "        else:\n",
    "            recovered.append(1)\n",
    "\n",
    "    recovered.reverse()\n",
    "        \n",
    "    return recovered"
   ]
  },
  {
   "cell_type": "code",
   "execution_count": 219,
   "metadata": {},
   "outputs": [],
   "source": [
    "pred = predict_by_cluster(output_data)"
   ]
  },
  {
   "cell_type": "code",
   "execution_count": 220,
   "metadata": {},
   "outputs": [],
   "source": [
    "def calculate_accuracy(d1,d2):\n",
    "    size = len(d1)\n",
    "    \n",
    "    acc = 0\n",
    "    \n",
    "    for i in range(size):\n",
    "        if d1[i] == d2[i]:\n",
    "            acc += 1\n",
    "        else:\n",
    "            print(i,d1[i],d2[i])\n",
    "    \n",
    "    return acc/size"
   ]
  },
  {
   "cell_type": "code",
   "execution_count": 221,
   "metadata": {},
   "outputs": [
    {
     "name": "stdout",
     "output_type": "stream",
     "text": [
      "3 0 1\n",
      "6 0 1\n",
      "7 0 1\n",
      "8 0 1\n",
      "18 1 0\n",
      "22 0 1\n",
      "25 0 1\n",
      "45 0 1\n",
      "47 1 0\n",
      "48 1 0\n",
      "51 0 1\n",
      "52 0 1\n",
      "67 0 1\n",
      "68 0 1\n",
      "74 0 1\n",
      "76 0 1\n",
      "82 0 1\n",
      "97 0 1\n"
     ]
    },
    {
     "data": {
      "text/plain": [
       "0.82"
      ]
     },
     "execution_count": 221,
     "metadata": {},
     "output_type": "execute_result"
    }
   ],
   "source": [
    "# Method 2 Accuracy\n",
    "calculate_accuracy(test_bits,pred)"
   ]
  },
  {
   "cell_type": "code",
   "execution_count": 222,
   "metadata": {},
   "outputs": [],
   "source": [
    "def predict_by_prob(output_data):\n",
    "    num = len(output_data)\n",
    "    cost = np.zeros((num,number_of_clusters))\n",
    "    for i in range(num):\n",
    "        sample = output_data[i]\n",
    "        for j in range(number_of_clusters):\n",
    "            if i == 0:\n",
    "                cost[i][j] = 0\n",
    "            if i == 1:\n",
    "                prev = np.argmax(cost[i-1])\n",
    "                cost[i][j] = np.log(0.1+transition_prob[prev][0]*multivariate_normal.pdf(sample,mean[j],co_var[j]))\n",
    "            else:\n",
    "                prev = np.argmax(cost[i-1])\n",
    "                cost[i][j] = np.log(0.1+transition_prob[prev][j]*multivariate_normal.pdf(sample,mean[j],co_var[j]))\n",
    "                cost[i][j] += max(cost[i-1])\n",
    "    \n",
    "    recovered = []\n",
    "    for i in range(num-1,0,-1):\n",
    "        cluster = np.argmax(cost[i])\n",
    "        \n",
    "        if(cluster<4):\n",
    "            recovered.append(0)\n",
    "        else:\n",
    "            recovered.append(1)\n",
    "\n",
    "    recovered.reverse()\n",
    "        \n",
    "    return recovered"
   ]
  },
  {
   "cell_type": "code",
   "execution_count": 223,
   "metadata": {},
   "outputs": [],
   "source": [
    "pred = predict_by_prob(output_data)"
   ]
  },
  {
   "cell_type": "code",
   "execution_count": 224,
   "metadata": {},
   "outputs": [
    {
     "name": "stdout",
     "output_type": "stream",
     "text": [
      "3 0 1\n",
      "6 0 1\n",
      "7 0 1\n",
      "8 0 1\n",
      "22 0 1\n",
      "25 0 1\n",
      "45 0 1\n",
      "47 1 0\n",
      "48 1 0\n",
      "51 0 1\n",
      "52 0 1\n",
      "67 0 1\n",
      "68 0 1\n",
      "74 0 1\n",
      "76 0 1\n",
      "82 0 1\n",
      "97 0 1\n"
     ]
    },
    {
     "data": {
      "text/plain": [
       "0.83"
      ]
     },
     "execution_count": 224,
     "metadata": {},
     "output_type": "execute_result"
    }
   ],
   "source": [
    "# Method 2 Accuracy\n",
    "calculate_accuracy(test_bits,pred)"
   ]
  },
  {
   "cell_type": "code",
   "execution_count": null,
   "metadata": {},
   "outputs": [],
   "source": []
  },
  {
   "cell_type": "code",
   "execution_count": null,
   "metadata": {},
   "outputs": [],
   "source": []
  },
  {
   "cell_type": "code",
   "execution_count": null,
   "metadata": {},
   "outputs": [],
   "source": []
  }
 ],
 "metadata": {
  "kernelspec": {
   "display_name": "Python 3",
   "language": "python",
   "name": "python3"
  },
  "language_info": {
   "codemirror_mode": {
    "name": "ipython",
    "version": 3
   },
   "file_extension": ".py",
   "mimetype": "text/x-python",
   "name": "python",
   "nbconvert_exporter": "python",
   "pygments_lexer": "ipython3",
   "version": "3.7.4"
  }
 },
 "nbformat": 4,
 "nbformat_minor": 2
}
