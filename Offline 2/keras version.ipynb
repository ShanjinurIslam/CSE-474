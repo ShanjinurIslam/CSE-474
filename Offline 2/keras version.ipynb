{
 "cells": [
  {
   "cell_type": "code",
   "execution_count": 24,
   "metadata": {},
   "outputs": [],
   "source": [
    "import numpy as np\n",
    "import tensorflow as tf"
   ]
  },
  {
   "cell_type": "code",
   "execution_count": 25,
   "metadata": {},
   "outputs": [],
   "source": [
    "file = open('trainNN.txt')\n",
    "\n",
    "lines = file.readlines()\n",
    "\n",
    "X = []\n",
    "labels = []\n",
    "\n",
    "\n",
    "for line in lines:\n",
    "    var = [float(x) for x in line.split()]\n",
    "    \n",
    "    X.append(var[:-1])\n",
    "    labels.append(int(var[-1]))"
   ]
  },
  {
   "cell_type": "code",
   "execution_count": 26,
   "metadata": {},
   "outputs": [],
   "source": [
    "number_of_classes = max(labels)\n",
    "N = len(X)\n",
    "\n",
    "Y = np.zeros((N,number_of_classes))\n",
    "\n",
    "for i in range(N):\n",
    "    Y[i,labels[i]-1] = 1"
   ]
  },
  {
   "cell_type": "code",
   "execution_count": 27,
   "metadata": {},
   "outputs": [],
   "source": [
    "X = np.array(X)\n",
    "Y = np.array(Y)"
   ]
  },
  {
   "cell_type": "code",
   "execution_count": 28,
   "metadata": {},
   "outputs": [
    {
     "name": "stdout",
     "output_type": "stream",
     "text": [
      "Model: \"sequential_3\"\n",
      "_________________________________________________________________\n",
      "Layer (type)                 Output Shape              Param #   \n",
      "=================================================================\n",
      "dense_6 (Dense)              (None, 4)                 20        \n",
      "_________________________________________________________________\n",
      "dense_7 (Dense)              (None, 4)                 20        \n",
      "=================================================================\n",
      "Total params: 40\n",
      "Trainable params: 40\n",
      "Non-trainable params: 0\n",
      "_________________________________________________________________\n"
     ]
    },
    {
     "data": {
      "text/plain": [
       "[array([[-0.34838933,  0.0788976 , -0.29942673, -0.7175921 ],\n",
       "        [-0.62518436, -0.0767343 , -0.6611854 , -0.14127308],\n",
       "        [-0.14836663,  0.1924122 , -0.8559361 ,  0.7278212 ],\n",
       "        [ 0.5137188 , -0.19702983,  0.7313816 , -0.24275386]],\n",
       "       dtype=float32),\n",
       " array([0., 0., 0., 0.], dtype=float32),\n",
       " array([[-0.08202815,  0.27288932, -0.5655869 ,  0.7232987 ],\n",
       "        [ 0.6091226 , -0.5199094 , -0.28178513,  0.35883993],\n",
       "        [-0.4642877 , -0.12687695, -0.19708437, -0.00406533],\n",
       "        [ 0.41841298, -0.5402562 ,  0.10778964,  0.7496149 ]],\n",
       "       dtype=float32),\n",
       " array([0., 0., 0., 0.], dtype=float32)]"
      ]
     },
     "execution_count": 28,
     "metadata": {},
     "output_type": "execute_result"
    }
   ],
   "source": [
    "# building the model\n",
    "\n",
    "model = tf.keras.models.Sequential()\n",
    "model.add(tf.keras.layers.Dense(4,input_shape=(X.shape[1],),activation='sigmoid'))\n",
    "model.add(tf.keras.layers.Dense(Y.shape[1],activation='sigmoid'))\n",
    "\n",
    "model.compile(optimizer=tf.keras.optimizers.Adam(0.01),loss='mse')\n",
    "model.summary()\n",
    "\n",
    "model.get_weights()"
   ]
  },
  {
   "cell_type": "code",
   "execution_count": 29,
   "metadata": {},
   "outputs": [
    {
     "name": "stdout",
     "output_type": "stream",
     "text": [
      "Train on 500 samples\n",
      "Epoch 1/100\n",
      "500/500 [==============================] - 0s 406us/sample - loss: 0.2399\n",
      "Epoch 2/100\n",
      "500/500 [==============================] - 0s 61us/sample - loss: 0.2206\n",
      "Epoch 3/100\n",
      "500/500 [==============================] - 0s 52us/sample - loss: 0.2064\n",
      "Epoch 4/100\n",
      "500/500 [==============================] - 0s 59us/sample - loss: 0.1960\n",
      "Epoch 5/100\n",
      "500/500 [==============================] - 0s 52us/sample - loss: 0.1886\n",
      "Epoch 6/100\n",
      "500/500 [==============================] - 0s 50us/sample - loss: 0.1828\n",
      "Epoch 7/100\n",
      "500/500 [==============================] - 0s 52us/sample - loss: 0.1773\n",
      "Epoch 8/100\n",
      "500/500 [==============================] - 0s 48us/sample - loss: 0.1726\n",
      "Epoch 9/100\n",
      "500/500 [==============================] - 0s 43us/sample - loss: 0.1679\n",
      "Epoch 10/100\n",
      "500/500 [==============================] - 0s 53us/sample - loss: 0.1639\n",
      "Epoch 11/100\n",
      "500/500 [==============================] - 0s 48us/sample - loss: 0.1590\n",
      "Epoch 12/100\n",
      "500/500 [==============================] - 0s 60us/sample - loss: 0.1545\n",
      "Epoch 13/100\n",
      "500/500 [==============================] - 0s 60us/sample - loss: 0.1521\n",
      "Epoch 14/100\n",
      "500/500 [==============================] - 0s 70us/sample - loss: 0.1479\n",
      "Epoch 15/100\n",
      "500/500 [==============================] - 0s 52us/sample - loss: 0.1445\n",
      "Epoch 16/100\n",
      "500/500 [==============================] - 0s 51us/sample - loss: 0.1428\n",
      "Epoch 17/100\n",
      "500/500 [==============================] - 0s 65us/sample - loss: 0.1398\n",
      "Epoch 18/100\n",
      "500/500 [==============================] - 0s 61us/sample - loss: 0.1377\n",
      "Epoch 19/100\n",
      "500/500 [==============================] - 0s 42us/sample - loss: 0.1353\n",
      "Epoch 20/100\n",
      "500/500 [==============================] - 0s 52us/sample - loss: 0.1340\n",
      "Epoch 21/100\n",
      "500/500 [==============================] - 0s 72us/sample - loss: 0.1331\n",
      "Epoch 22/100\n",
      "500/500 [==============================] - 0s 52us/sample - loss: 0.1309\n",
      "Epoch 23/100\n",
      "500/500 [==============================] - 0s 59us/sample - loss: 0.1300\n",
      "Epoch 24/100\n",
      "500/500 [==============================] - 0s 46us/sample - loss: 0.1291\n",
      "Epoch 25/100\n",
      "500/500 [==============================] - 0s 48us/sample - loss: 0.1275\n",
      "Epoch 26/100\n",
      "500/500 [==============================] - 0s 59us/sample - loss: 0.1265\n",
      "Epoch 27/100\n",
      "500/500 [==============================] - 0s 60us/sample - loss: 0.1257\n",
      "Epoch 28/100\n",
      "500/500 [==============================] - 0s 75us/sample - loss: 0.1251\n",
      "Epoch 29/100\n",
      "500/500 [==============================] - 0s 47us/sample - loss: 0.1239\n",
      "Epoch 30/100\n",
      "500/500 [==============================] - 0s 51us/sample - loss: 0.1233\n",
      "Epoch 31/100\n",
      "500/500 [==============================] - 0s 48us/sample - loss: 0.1224\n",
      "Epoch 32/100\n",
      "500/500 [==============================] - 0s 49us/sample - loss: 0.1224\n",
      "Epoch 33/100\n",
      "500/500 [==============================] - 0s 47us/sample - loss: 0.1216\n",
      "Epoch 34/100\n",
      "500/500 [==============================] - 0s 50us/sample - loss: 0.1204\n",
      "Epoch 35/100\n",
      "500/500 [==============================] - 0s 37us/sample - loss: 0.1192\n",
      "Epoch 36/100\n",
      "500/500 [==============================] - 0s 49us/sample - loss: 0.1182\n",
      "Epoch 37/100\n",
      "500/500 [==============================] - 0s 54us/sample - loss: 0.1162\n",
      "Epoch 38/100\n",
      "500/500 [==============================] - 0s 41us/sample - loss: 0.1145\n",
      "Epoch 39/100\n",
      "500/500 [==============================] - 0s 46us/sample - loss: 0.1125\n",
      "Epoch 40/100\n",
      "500/500 [==============================] - 0s 48us/sample - loss: 0.1103\n",
      "Epoch 41/100\n",
      "500/500 [==============================] - 0s 75us/sample - loss: 0.1082\n",
      "Epoch 42/100\n",
      "500/500 [==============================] - 0s 57us/sample - loss: 0.1069\n",
      "Epoch 43/100\n",
      "500/500 [==============================] - 0s 65us/sample - loss: 0.1073\n",
      "Epoch 44/100\n",
      "500/500 [==============================] - 0s 70us/sample - loss: 0.1012\n",
      "Epoch 45/100\n",
      "500/500 [==============================] - 0s 65us/sample - loss: 0.0987\n",
      "Epoch 46/100\n",
      "500/500 [==============================] - 0s 59us/sample - loss: 0.0953\n",
      "Epoch 47/100\n",
      "500/500 [==============================] - 0s 51us/sample - loss: 0.0936\n",
      "Epoch 48/100\n",
      "500/500 [==============================] - 0s 59us/sample - loss: 0.0921\n",
      "Epoch 49/100\n",
      "500/500 [==============================] - 0s 45us/sample - loss: 0.0889\n",
      "Epoch 50/100\n",
      "500/500 [==============================] - 0s 52us/sample - loss: 0.0865\n",
      "Epoch 51/100\n",
      "500/500 [==============================] - 0s 49us/sample - loss: 0.0842\n",
      "Epoch 52/100\n",
      "500/500 [==============================] - 0s 61us/sample - loss: 0.0819\n",
      "Epoch 53/100\n",
      "500/500 [==============================] - 0s 56us/sample - loss: 0.0801\n",
      "Epoch 54/100\n",
      "500/500 [==============================] - 0s 37us/sample - loss: 0.0788\n",
      "Epoch 55/100\n",
      "500/500 [==============================] - 0s 42us/sample - loss: 0.0785\n",
      "Epoch 56/100\n",
      "500/500 [==============================] - 0s 54us/sample - loss: 0.0757\n",
      "Epoch 57/100\n",
      "500/500 [==============================] - 0s 44us/sample - loss: 0.0732\n",
      "Epoch 58/100\n",
      "500/500 [==============================] - 0s 39us/sample - loss: 0.0725\n",
      "Epoch 59/100\n",
      "500/500 [==============================] - 0s 43us/sample - loss: 0.0707\n",
      "Epoch 60/100\n",
      "500/500 [==============================] - 0s 40us/sample - loss: 0.0695\n",
      "Epoch 61/100\n",
      "500/500 [==============================] - 0s 33us/sample - loss: 0.0694\n",
      "Epoch 62/100\n",
      "500/500 [==============================] - 0s 43us/sample - loss: 0.0673\n",
      "Epoch 63/100\n",
      "500/500 [==============================] - 0s 43us/sample - loss: 0.0660\n",
      "Epoch 64/100\n",
      "500/500 [==============================] - 0s 43us/sample - loss: 0.0657\n",
      "Epoch 65/100\n",
      "500/500 [==============================] - 0s 58us/sample - loss: 0.0650\n",
      "Epoch 66/100\n",
      "500/500 [==============================] - 0s 40us/sample - loss: 0.0634\n",
      "Epoch 67/100\n",
      "500/500 [==============================] - 0s 58us/sample - loss: 0.0627\n",
      "Epoch 68/100\n",
      "500/500 [==============================] - 0s 41us/sample - loss: 0.0618\n",
      "Epoch 69/100\n",
      "500/500 [==============================] - 0s 47us/sample - loss: 0.0608\n",
      "Epoch 70/100\n",
      "500/500 [==============================] - 0s 44us/sample - loss: 0.0609\n",
      "Epoch 71/100\n",
      "500/500 [==============================] - 0s 52us/sample - loss: 0.0603\n",
      "Epoch 72/100\n",
      "500/500 [==============================] - 0s 53us/sample - loss: 0.0590\n",
      "Epoch 73/100\n",
      "500/500 [==============================] - 0s 50us/sample - loss: 0.0582\n",
      "Epoch 74/100\n",
      "500/500 [==============================] - 0s 51us/sample - loss: 0.0578\n",
      "Epoch 75/100\n",
      "500/500 [==============================] - 0s 68us/sample - loss: 0.0573\n",
      "Epoch 76/100\n",
      "500/500 [==============================] - 0s 46us/sample - loss: 0.0570\n",
      "Epoch 77/100\n",
      "500/500 [==============================] - 0s 58us/sample - loss: 0.0554\n",
      "Epoch 78/100\n",
      "500/500 [==============================] - 0s 43us/sample - loss: 0.0551\n",
      "Epoch 79/100\n",
      "500/500 [==============================] - 0s 47us/sample - loss: 0.0544\n",
      "Epoch 80/100\n",
      "500/500 [==============================] - 0s 46us/sample - loss: 0.0542\n",
      "Epoch 81/100\n",
      "500/500 [==============================] - 0s 52us/sample - loss: 0.0542\n",
      "Epoch 82/100\n",
      "500/500 [==============================] - 0s 43us/sample - loss: 0.0546\n",
      "Epoch 83/100\n",
      "500/500 [==============================] - 0s 52us/sample - loss: 0.0538\n",
      "Epoch 84/100\n",
      "500/500 [==============================] - 0s 46us/sample - loss: 0.0521\n",
      "Epoch 85/100\n",
      "500/500 [==============================] - 0s 54us/sample - loss: 0.0510\n",
      "Epoch 86/100\n",
      "500/500 [==============================] - 0s 47us/sample - loss: 0.0506\n",
      "Epoch 87/100\n",
      "500/500 [==============================] - 0s 37us/sample - loss: 0.0503\n",
      "Epoch 88/100\n",
      "500/500 [==============================] - 0s 51us/sample - loss: 0.0501\n",
      "Epoch 89/100\n",
      "500/500 [==============================] - 0s 41us/sample - loss: 0.0489\n",
      "Epoch 90/100\n",
      "500/500 [==============================] - 0s 52us/sample - loss: 0.0479\n",
      "Epoch 91/100\n",
      "500/500 [==============================] - 0s 50us/sample - loss: 0.0479\n",
      "Epoch 92/100\n",
      "500/500 [==============================] - 0s 54us/sample - loss: 0.0469\n",
      "Epoch 93/100\n",
      "500/500 [==============================] - 0s 43us/sample - loss: 0.0466\n",
      "Epoch 94/100\n",
      "500/500 [==============================] - 0s 52us/sample - loss: 0.0451\n",
      "Epoch 95/100\n",
      "500/500 [==============================] - 0s 51us/sample - loss: 0.0458\n",
      "Epoch 96/100\n"
     ]
    },
    {
     "name": "stdout",
     "output_type": "stream",
     "text": [
      "500/500 [==============================] - 0s 47us/sample - loss: 0.0450\n",
      "Epoch 97/100\n",
      "500/500 [==============================] - 0s 46us/sample - loss: 0.0441\n",
      "Epoch 98/100\n",
      "500/500 [==============================] - 0s 45us/sample - loss: 0.0434\n",
      "Epoch 99/100\n",
      "500/500 [==============================] - 0s 38us/sample - loss: 0.0419\n",
      "Epoch 100/100\n",
      "500/500 [==============================] - 0s 38us/sample - loss: 0.0411\n"
     ]
    }
   ],
   "source": [
    "r = model.fit(X,Y,epochs=100,)"
   ]
  },
  {
   "cell_type": "code",
   "execution_count": 30,
   "metadata": {},
   "outputs": [
    {
     "data": {
      "text/plain": [
       "<matplotlib.legend.Legend at 0x7fa596f68dd0>"
      ]
     },
     "execution_count": 30,
     "metadata": {},
     "output_type": "execute_result"
    },
    {
     "data": {
      "image/png": "[encoded data removed]",
      "text/plain": [
       "<Figure size 432x288 with 1 Axes>"
      ]
     },
     "metadata": {
      "needs_background": "light"
     },
     "output_type": "display_data"
    }
   ],
   "source": [
    "import matplotlib.pyplot as plt\n",
    "\n",
    "plt.plot(r.history['loss'],label='loss')\n",
    "plt.legend()"
   ]
  },
  {
   "cell_type": "code",
   "execution_count": 31,
   "metadata": {},
   "outputs": [
    {
     "data": {
      "text/plain": [
       "array([[9.3646020e-01, 1.0560928e-01, 1.1963005e-04, 1.7621756e-05],\n",
       "       [5.2837882e-02, 8.2353562e-01, 2.9197836e-01, 6.4231775e-04],\n",
       "       [1.1759835e-02, 2.4331000e-02, 4.0989196e-01, 8.2447779e-01],\n",
       "       ...,\n",
       "       [9.4441146e-01, 9.5401548e-02, 9.6683711e-05, 1.6475142e-05],\n",
       "       [5.9007831e-02, 8.0170429e-01, 2.5443876e-01, 6.4777012e-04],\n",
       "       [1.1729833e-02, 2.3528371e-02, 4.0838400e-01, 8.3121234e-01]],\n",
       "      dtype=float32)"
      ]
     },
     "execution_count": 31,
     "metadata": {},
     "output_type": "execute_result"
    }
   ],
   "source": [
    "model.predict(X)"
   ]
  },
  {
   "cell_type": "code",
   "execution_count": 32,
   "metadata": {},
   "outputs": [
    {
     "data": {
      "text/plain": [
       "[array([[-0.469443  ,  0.01183682, -0.37523025, -0.39046016],\n",
       "        [-0.74610245, -0.07528108, -0.7575365 , -0.21736628],\n",
       "        [-0.26974756,  0.06445478, -0.9671383 ,  0.36398265],\n",
       "        [ 0.39282447, -0.14446548,  0.6067048 , -0.23090996]],\n",
       "       dtype=float32),\n",
       " array([-0.12159605,  7.4670897 , -0.01376561,  7.260863  ], dtype=float32),\n",
       " array([[  0.14706337,   0.02098059,  -0.7046495 ,   0.5866562 ],\n",
       "        [  0.5118558 ,   7.1088705 ,   1.3195662 ,  -9.741928  ],\n",
       "        [ -0.34482712,  -0.2355689 ,  -0.28577775,  -0.09974918],\n",
       "        [  7.103707  ,  -5.578674  , -10.623959  ,  -3.4502428 ]],\n",
       "       dtype=float32),\n",
       " array([-4.4525404 , -3.9840872 , -0.41845465,  1.948456  ], dtype=float32)]"
      ]
     },
     "execution_count": 32,
     "metadata": {},
     "output_type": "execute_result"
    }
   ],
   "source": [
    "model.get_weights()"
   ]
  },
  {
   "cell_type": "code",
   "execution_count": null,
   "metadata": {},
   "outputs": [],
   "source": []
  }
 ],
 "metadata": {
  "kernelspec": {
   "display_name": "Python 3",
   "language": "python",
   "name": "python3"
  },
  "language_info": {
   "codemirror_mode": {
    "name": "ipython",
    "version": 3
   },
   "file_extension": ".py",
   "mimetype": "text/x-python",
   "name": "python",
   "nbconvert_exporter": "python",
   "pygments_lexer": "ipython3",
   "version": "3.7.4"
  }
 },
 "nbformat": 4,
 "nbformat_minor": 2
}
