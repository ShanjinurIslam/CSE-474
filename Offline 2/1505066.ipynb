{
 "cells": [
  {
   "cell_type": "code",
   "execution_count": 15,
   "metadata": {},
   "outputs": [],
   "source": [
    "import numpy as np\n",
    "import pandas as pd\n",
    "from sklearn.preprocessing import MinMaxScaler\n",
    "\n",
    "np.random.seed(42)"
   ]
  },
  {
   "cell_type": "code",
   "execution_count": 16,
   "metadata": {},
   "outputs": [],
   "source": [
    "def generate(filename):\n",
    "    df = pd.read_csv(filename,delimiter='\\s+',header=None)\n",
    "    X = df[df.columns[:-1]].values\n",
    "    y = df[df.columns[-1]].values\n",
    "    \n",
    "    num_classes = len(np.unique(y))\n",
    "    N = len(X)\n",
    "    \n",
    "    Y = np.zeros((N,num_classes))\n",
    "    \n",
    "    for i in range(N):\n",
    "        Y[i][y[i]-1] = 1\n",
    "    \n",
    "    return X,Y"
   ]
  },
  {
   "cell_type": "code",
   "execution_count": 17,
   "metadata": {},
   "outputs": [],
   "source": [
    "X_train,Y_train = generate('trainNN.txt')\n",
    "X_test, Y_test  =  generate('testNN.txt')"
   ]
  },
  {
   "cell_type": "code",
   "execution_count": 18,
   "metadata": {},
   "outputs": [],
   "source": [
    "class L_Layer_NN():\n",
    "    def __init__(self,k,lr=0.25,max_epoch=1000):\n",
    "        self.k = k\n",
    "        self.L = len(self.k)-1\n",
    "        self.weights = []\n",
    "        self.lr = lr\n",
    "        self.max_epoch = max_epoch\n",
    "        \n",
    "    def init_weights(self):\n",
    "        for i in range(1,len(self.k)):\n",
    "            self.weights.append(np.random.uniform(0,1,(self.k[i],self.k[i-1]+1)))\n",
    "    def sigmoid(self,z):\n",
    "        return 1/(1 + np.exp(-z))\n",
    "\n",
    "    def derivative(self,z):\n",
    "        return self.sigmoid(z)*(1-self.sigmoid(z))\n",
    "            \n",
    "    def feed_forward(self,x_i):\n",
    "        self.y = []\n",
    "        self.v = []\n",
    "        \n",
    "        self.y.append(x_i)\n",
    "        \n",
    "        for r in range(self.L):\n",
    "            v_r = np.dot(self.weights[r],self.y[r])\n",
    "            self.v.append(v_r)\n",
    "            y_r = self.sigmoid(v_r)\n",
    "            y_r = np.insert(y_r,0,values=1,axis=0)\n",
    "            self.y.append(y_r)\n",
    "    \n",
    "    def backpropagation(self,y_true):\n",
    "        self.delta = [0]*self.L\n",
    "        self.y_hat = self.y[-1]\n",
    "        self.delta[self.L-1] = np.multiply(self.y_hat[1:]-y_true,self.derivative(self.v[self.L-1]))    \n",
    "        \n",
    "        for r in reversed(range(0,self.L-1)):\n",
    "            e_r = np.dot(self.delta[r+1],self.weights[r+1][:,1:])\n",
    "            self.delta[r] = np.multiply(e_r,self.derivative(self.v[r]))\n",
    "    \n",
    "    def update_weights(self):\n",
    "        self.y = self.y[:-1]\n",
    "        for r in range(self.L):\n",
    "            self.weights[r] = self.weights[r] - self.lr*((self.delta[r].reshape(-1,1))*self.y[r])\n",
    "    \n",
    "    def calculate_cost(self,y_hat,y_true):\n",
    "        return 0.5*np.sum((y_hat-y_true)**2,axis=0)\n",
    "    \n",
    "    def fit(self,X,Y):\n",
    "        self.init_weights() ## initialize weights\n",
    "        X = np.insert(X,0,values=1,axis=1) ## appending 1 to all x vectors\n",
    "        \n",
    "        for epoch in range(self.max_epoch):\n",
    "            total_cost = 0\n",
    "            for (x_i,y_i) in zip(X,Y):\n",
    "                self.feed_forward(x_i)\n",
    "                self.backpropagation(y_i)\n",
    "                self.update_weights()\n",
    "                total_cost += self.calculate_cost(self.y_hat[1:],y_i)\n",
    "            print(\"Epoch: \",epoch,total_cost)\n",
    "            if total_cost < 5:\n",
    "                break\n",
    "        return\n",
    "    \n",
    "    def predict(self,X,Y):\n",
    "        correct = 0\n",
    "        sample_number = 0\n",
    "        \n",
    "        X = np.insert(X,0,values=1,axis=1)\n",
    "        \n",
    "        for (x_i,y_i) in zip(X,Y):\n",
    "            self.feed_forward(x_i)\n",
    "            sample_number += 1\n",
    "            \n",
    "            predicted_class = np.argmax(self.y[-1][1:])\n",
    "            actual_class = np.argmax(y_i)\n",
    "            \n",
    "            if predicted_class == actual_class:\n",
    "                correct += 1\n",
    "            else:\n",
    "                print(sample_number,x_i,y_i,actual_class+1,predicted_class+1)\n",
    "        \n",
    "        return correct/len(X)"
   ]
  },
  {
   "cell_type": "code",
   "execution_count": 19,
   "metadata": {},
   "outputs": [
    {
     "name": "stdout",
     "output_type": "stream",
     "text": [
      "Epoch:  0 218.1842166129956\n",
      "Epoch:  1 197.68425992821943\n",
      "Epoch:  2 193.0802341925982\n",
      "Epoch:  3 192.04400569529975\n",
      "Epoch:  4 191.86808556121505\n",
      "Epoch:  5 191.79738303460041\n",
      "Epoch:  6 191.75934695490415\n",
      "Epoch:  7 191.73542115843094\n",
      "Epoch:  8 191.71871515545317\n",
      "Epoch:  9 191.70609820725448\n",
      "Epoch:  10 191.6959409531805\n",
      "Epoch:  11 191.68730176365779\n",
      "Epoch:  12 191.67958405678363\n",
      "Epoch:  13 191.6723735574\n",
      "Epoch:  14 191.66535217263507\n",
      "Epoch:  15 191.65824652571388\n",
      "Epoch:  16 191.65079173349892\n",
      "Epoch:  17 191.6426996629408\n",
      "Epoch:  18 191.63362357392546\n",
      "Epoch:  19 191.62311004554354\n",
      "Epoch:  20 191.6105239532604\n",
      "Epoch:  21 191.59491959624748\n",
      "Epoch:  22 191.57480093209008\n",
      "Epoch:  23 191.5476375284021\n",
      "Epoch:  24 191.5087884034412\n",
      "Epoch:  25 191.44879265167216\n",
      "Epoch:  26 191.34526372169339\n",
      "Epoch:  27 191.1313560533982\n",
      "Epoch:  28 190.499665264371\n",
      "Epoch:  29 184.7402763393755\n",
      "Epoch:  30 132.76647688738848\n",
      "Epoch:  31 118.32376085591845\n",
      "Epoch:  32 99.63933735531208\n",
      "Epoch:  33 75.53516177875709\n",
      "Epoch:  34 69.6099457669745\n",
      "Epoch:  35 68.09465860277493\n",
      "Epoch:  36 70.8632288861861\n",
      "Epoch:  37 69.11277280218827\n",
      "Epoch:  38 65.74348658082857\n",
      "Epoch:  39 59.314224948554035\n",
      "Epoch:  40 46.223485735991716\n",
      "Epoch:  41 10.603070541222415\n",
      "Epoch:  42 3.7620896843435174\n"
     ]
    }
   ],
   "source": [
    "min_max_scaler = MinMaxScaler()  # min max scaler\n",
    "X_train = min_max_scaler.fit_transform(X_train)\n",
    "X_test = min_max_scaler.fit_transform(X_test)\n",
    "\n",
    "input_neurons = X_train.shape[1]\n",
    "output_neurons = Y_train.shape[1] \n",
    "\n",
    "model = L_Layer_NN([input_neurons,4,5,6,7,output_neurons],lr=1)\n",
    "model.fit(X_train,Y_train)"
   ]
  },
  {
   "cell_type": "code",
   "execution_count": 20,
   "metadata": {},
   "outputs": [
    {
     "data": {
      "text/plain": [
       "1.0"
      ]
     },
     "execution_count": 20,
     "metadata": {},
     "output_type": "execute_result"
    }
   ],
   "source": [
    "model.predict(X_train,Y_train)"
   ]
  },
  {
   "cell_type": "code",
   "execution_count": 21,
   "metadata": {},
   "outputs": [
    {
     "data": {
      "text/plain": [
       "1.0"
      ]
     },
     "execution_count": 21,
     "metadata": {},
     "output_type": "execute_result"
    }
   ],
   "source": [
    "model.predict(X_test,Y_test)"
   ]
  }
 ],
 "metadata": {
  "kernelspec": {
   "display_name": "Python 3",
   "language": "python",
   "name": "python3"
  },
  "language_info": {
   "codemirror_mode": {
    "name": "ipython",
    "version": 3
   },
   "file_extension": ".py",
   "mimetype": "text/x-python",
   "name": "python",
   "nbconvert_exporter": "python",
   "pygments_lexer": "ipython3",
   "version": "3.7.4"
  }
 },
 "nbformat": 4,
 "nbformat_minor": 2
}
