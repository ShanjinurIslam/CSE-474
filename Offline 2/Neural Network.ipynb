{
 "cells": [
  {
   "cell_type": "code",
   "execution_count": 423,
   "metadata": {},
   "outputs": [],
   "source": [
    "import numpy as np\n",
    "from sklearn.preprocessing import MinMaxScaler"
   ]
  },
  {
   "cell_type": "code",
   "execution_count": 424,
   "metadata": {},
   "outputs": [],
   "source": [
    "def generate(filename):\n",
    "    df = pd.read_csv(filename,delimiter='\\s+',header=None)\n",
    "    X = df[df.columns[:-1]].values\n",
    "    y = df[df.columns[-1]].values\n",
    "    \n",
    "    num_classes = len(np.unique(y))\n",
    "    N = len(X)\n",
    "    \n",
    "    Y = np.zeros((N,num_classes))\n",
    "    \n",
    "    for i in range(N):\n",
    "        Y[i][y[i]-1] = 1\n",
    "    \n",
    "    return X,Y"
   ]
  },
  {
   "cell_type": "code",
   "execution_count": 425,
   "metadata": {},
   "outputs": [],
   "source": [
    "X_train,Y_train = generate('trainNN.txt')\n",
    "X_test, Y_test  =  generate('testNN.txt')"
   ]
  },
  {
   "cell_type": "code",
   "execution_count": 426,
   "metadata": {},
   "outputs": [],
   "source": [
    "np.random.seed(42)\n",
    "class L_Layer_NN:\n",
    "    def __init__(self,L,k,learning_rate = 0.03):\n",
    "        self.L = L\n",
    "        self.k = k\n",
    "        self.W = []\n",
    "        self.W.append(0)\n",
    "        self.lr = learning_rate\n",
    "        self.k = np.insert(self.k,0,values=0,axis=0)\n",
    "        print(self.k)\n",
    "    \n",
    "    def sigmoid(self,z):\n",
    "        return 1/(1 + np.exp(-z))\n",
    "\n",
    "    def derivative(self,z):\n",
    "        return self.sigmoid(z)*(1-self.sigmoid(z))\n",
    "    \n",
    "    def fit(self,X_train,Y_train,max_epoch=1000):\n",
    "        N = len(X_train)\n",
    "        \n",
    "        self.k[0] = X_train.shape[1]\n",
    "        \n",
    "        for r in range(0,self.L):\n",
    "            random_weight = np.random.uniform(0,1,size=(self.k[r+1],self.k[r]+1))\n",
    "            random_weight = np.insert(random_weight,0,values=0,axis=0)\n",
    "            self.W.append(random_weight)\n",
    "                    \n",
    "        X_train = np.insert(X_train,0,values=1,axis=1)\n",
    "        Y_train = np.insert(Y_train,0,values=0,axis=1)\n",
    "        \n",
    "        for epoch in range(max_epoch):\n",
    "            y_m = []\n",
    "            J = 0\n",
    "            \n",
    "            for i in range(N):\n",
    "                x_i = X_train[i]\n",
    "                \n",
    "                y = []\n",
    "                y.append(x_i)\n",
    "                \n",
    "                v = []\n",
    "                v.append(0)\n",
    "                \n",
    "                for r in range(1,self.L+1):\n",
    "                    v_r = np.dot(np.array(self.W[r][1:]),np.array(y[r-1]))\n",
    "                    y_r = self.sigmoid(v_r)\n",
    "                    v_r = np.insert(v_r,0,values=0,axis=0)\n",
    "                    y_r = np.insert(y_r,0,values=1,axis=0)\n",
    "                        \n",
    "                    v.append(v_r)\n",
    "                    y.append(y_r)\n",
    "                    \n",
    "                \n",
    "                J += 0.5*np.sum((y[self.L][1:]-Y_train[i][1:])**2,axis=0)\n",
    "                   \n",
    "                delta_L = np.multiply((y[self.L][1:]-Y_train[i][1:]),self.derivative(v[self.L][1:]))\n",
    "                delta_L = np.insert(delta_L,0,values=0,axis=0)\n",
    "                \n",
    "                delta = []\n",
    "                delta.append(0)\n",
    "                \n",
    "                for r in range(1,self.L+1):\n",
    "                    if r == self.L :\n",
    "                        delta.append(delta_L)\n",
    "                    else:\n",
    "                        temp = np.zeros(self.k[r]+1)\n",
    "                        delta.append(temp)\n",
    "                        \n",
    "                \n",
    "                for r in range(self.L,1,-1):\n",
    "                    for j in range(1,self.k[r-1]+1):\n",
    "                        e_j = 0\n",
    "                        for k in range(1,self.k[r]+1):\n",
    "                            e_j += delta[r][k]*self.W[r][k][j]\n",
    "                        delta[r-1][j] = e_j*self.derivative(v[r-1][j])\n",
    "                    \n",
    "                for r in range(1,self.L+1):\n",
    "                    for j in range(1,self.k[r]+1):\n",
    "                        del_w = -self.lr*np.multiply(y[r-1],delta[r][j])\n",
    "                        self.W[r][j] = self.W[r][j] + del_w\n",
    "            \n",
    "                \n",
    "            print(\"Epoch \" + str(epoch) + \", Cost \" + str(J))\n",
    "            if J < 10:\n",
    "                break\n",
    "            \n",
    "        pass\n",
    "    \n",
    "    \n",
    "    def predict(self,X,Y):\n",
    "        X = np.insert(X,0,values=1,axis=1)\n",
    "        Y = np.insert(Y,0,values=0,axis=1)\n",
    "        \n",
    "        N = len(X)\n",
    "        true = 0\n",
    "        \n",
    "        for i in range(N):\n",
    "            x_i = X[i]\n",
    "                \n",
    "            y = []\n",
    "            y.append(x_i)\n",
    "                \n",
    "            for r in range(1,self.L+1):\n",
    "                y_r = []\n",
    "                y_r.append(1)\n",
    "                for j in range(1,self.k[r]+1):\n",
    "                    dot_product = np.dot(np.array(self.W[r][j]),np.array(y[r-1]))\n",
    "                    y_r.append(self.sigmoid(dot_product))\n",
    "                        \n",
    "                y.append(y_r)\n",
    "            \n",
    "            \n",
    "            if np.argmax(y[self.L][1:]) == np.argmax(Y[i][1:]):\n",
    "                true += 1\n",
    "                \n",
    "        return true/N"
   ]
  },
  {
   "cell_type": "code",
   "execution_count": 427,
   "metadata": {},
   "outputs": [
    {
     "name": "stdout",
     "output_type": "stream",
     "text": [
      "[0 5 3 2 4]\n",
      "Epoch 0, Cost 198.05708166429932\n",
      "Epoch 1, Cost 192.08675235257795\n",
      "Epoch 2, Cost 191.69942111147236\n",
      "Epoch 3, Cost 191.48476715187212\n",
      "Epoch 4, Cost 191.1484582983641\n",
      "Epoch 5, Cost 189.6482612097816\n",
      "Epoch 6, Cost 157.60113953855839\n",
      "Epoch 7, Cost 122.73974568701307\n",
      "Epoch 8, Cost 116.77363937271282\n",
      "Epoch 9, Cost 97.41800978733427\n",
      "Epoch 10, Cost 72.42485159731987\n",
      "Epoch 11, Cost 63.70411481533601\n",
      "Epoch 12, Cost 58.47955435722212\n",
      "Epoch 13, Cost 51.07017266569786\n",
      "Epoch 14, Cost 46.63963615049576\n",
      "Epoch 15, Cost 44.00474657139031\n",
      "Epoch 16, Cost 42.12259952552927\n",
      "Epoch 17, Cost 37.26592734134487\n",
      "Epoch 18, Cost 32.36228744113252\n",
      "Epoch 19, Cost 27.226522331959266\n",
      "Epoch 20, Cost 21.945897189443336\n",
      "Epoch 21, Cost 17.32720601112389\n",
      "Epoch 22, Cost 14.202656040093812\n",
      "Epoch 23, Cost 11.562399033851579\n",
      "Epoch 24, Cost 10.071246887619765\n",
      "Epoch 25, Cost 8.88502473034474\n"
     ]
    }
   ],
   "source": [
    "output_neurons = Y_train.shape[1] \n",
    "\n",
    "model = L_Layer_NN(4,[5,3,2,output_neurons],learning_rate=1)\n",
    "\n",
    "min_max_scaler = MinMaxScaler()  # min max scaler\n",
    "X_train = min_max_scaler.fit_transform(X_train)\n",
    "X_test = min_max_scaler.fit_transform(X_test)\n",
    "\n",
    "model.fit(X_train,Y_train)"
   ]
  },
  {
   "cell_type": "code",
   "execution_count": 428,
   "metadata": {},
   "outputs": [
    {
     "data": {
      "text/plain": [
       "1.0"
      ]
     },
     "execution_count": 428,
     "metadata": {},
     "output_type": "execute_result"
    }
   ],
   "source": [
    "model.predict(X_train,Y_train)"
   ]
  },
  {
   "cell_type": "code",
   "execution_count": 429,
   "metadata": {},
   "outputs": [
    {
     "data": {
      "text/plain": [
       "1.0"
      ]
     },
     "execution_count": 429,
     "metadata": {},
     "output_type": "execute_result"
    }
   ],
   "source": [
    "model.predict(X_test,Y_test)"
   ]
  },
  {
   "cell_type": "code",
   "execution_count": null,
   "metadata": {},
   "outputs": [],
   "source": []
  }
 ],
 "metadata": {
  "kernelspec": {
   "display_name": "Python 3",
   "language": "python",
   "name": "python3"
  },
  "language_info": {
   "codemirror_mode": {
    "name": "ipython",
    "version": 3
   },
   "file_extension": ".py",
   "mimetype": "text/x-python",
   "name": "python",
   "nbconvert_exporter": "python",
   "pygments_lexer": "ipython3",
   "version": "3.7.4"
  }
 },
 "nbformat": 4,
 "nbformat_minor": 2
}
