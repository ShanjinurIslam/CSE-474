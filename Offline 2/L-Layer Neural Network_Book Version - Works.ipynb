{
 "cells": [
  {
   "cell_type": "markdown",
   "metadata": {},
   "source": [
    "## Importing libraries"
   ]
  },
  {
   "cell_type": "code",
   "execution_count": 39,
   "metadata": {},
   "outputs": [],
   "source": [
    "import numpy as np\n",
    "import matplotlib.pyplot as plt\n",
    "\n",
    "np.random.seed(42)"
   ]
  },
  {
   "cell_type": "markdown",
   "metadata": {},
   "source": [
    "## Reading input from file"
   ]
  },
  {
   "cell_type": "code",
   "execution_count": 40,
   "metadata": {},
   "outputs": [],
   "source": [
    "file = open('trainNN.txt')\n",
    "\n",
    "lines = file.readlines()\n",
    "\n",
    "X = []\n",
    "labels = []\n",
    "\n",
    "for line in lines:\n",
    "    var = [float(x) for x in line.split()]\n",
    "    X.append(var[:-1])\n",
    "    labels.append(int(var[-1]))\n",
    "    \n",
    "number_of_classes = max(labels)\n",
    "N = len(X)\n",
    "\n",
    "Y = np.zeros((N,number_of_classes))\n",
    "\n",
    "for i in range(N):\n",
    "    Y[i,labels[i]-1] = 1\n",
    "    \n",
    "X = np.array(X) \n",
    "Y = np.array(Y)"
   ]
  },
  {
   "cell_type": "code",
   "execution_count": 41,
   "metadata": {},
   "outputs": [
    {
     "output_type": "execute_result",
     "data": {
      "text/plain": "array([[ 9.21323266, 11.82445528, 16.69098092, 19.56967227],\n       [16.10344524, 23.89625138, 32.17012852, 39.75094393],\n       [31.28930267, 47.86461292, 64.21983155, 79.74692811],\n       ...,\n       [ 7.90082578, 11.96311621, 16.30620007, 19.39478341],\n       [15.07843625, 24.22942082, 31.61172694, 39.75461333],\n       [32.27519136, 48.00916618, 64.0824622 , 80.59215177]])"
     },
     "metadata": {},
     "execution_count": 41
    }
   ],
   "source": [
    "X"
   ]
  },
  {
   "cell_type": "code",
   "execution_count": 42,
   "metadata": {},
   "outputs": [
    {
     "output_type": "execute_result",
     "data": {
      "text/plain": "array([[1., 0., 0., 0.],\n       [0., 1., 0., 0.],\n       [0., 0., 0., 1.],\n       ...,\n       [1., 0., 0., 0.],\n       [0., 1., 0., 0.],\n       [0., 0., 0., 1.]])"
     },
     "metadata": {},
     "execution_count": 42
    }
   ],
   "source": [
    "Y"
   ]
  },
  {
   "cell_type": "markdown",
   "metadata": {},
   "source": [
    "### Number of layers = all layers except the input layers\n",
    "\n",
    "### 2 Layer NN -> 1 Hidden Layer and 1 Output Layer\n",
    "\n",
    "### First work with 2 Layer NN then we will extend this NN\n"
   ]
  },
  {
   "cell_type": "code",
   "execution_count": 43,
   "metadata": {},
   "outputs": [],
   "source": [
    "L = 2 # number of layers\n",
    "\n",
    "k = [4,Y.shape[1]]\n",
    "\n",
    "W = []\n",
    "\n",
    "for i in range(L):\n",
    "    if(i==0):\n",
    "        W.append(np.random.uniform(-1,1,(k[i],X.shape[1]+1)))\n",
    "    else:\n",
    "        W.append(np.random.uniform(-1,1,(k[i],k[i-1]+1)))"
   ]
  },
  {
   "cell_type": "code",
   "execution_count": 44,
   "metadata": {},
   "outputs": [],
   "source": [
    "def sigmoid(z):\n",
    "    return 1/(1+np.exp(z))\n",
    "\n",
    "def derivative(z):\n",
    "    return sigmoid(z)*(1-sigmoid(z))"
   ]
  },
  {
   "cell_type": "code",
   "execution_count": 45,
   "metadata": {},
   "outputs": [
    {
     "output_type": "execute_result",
     "data": {
      "text/plain": "[array([[-0.25091976,  0.90142861,  0.46398788,  0.19731697, -0.68796272],\n        [-0.68801096, -0.88383278,  0.73235229,  0.20223002,  0.41614516],\n        [-0.95883101,  0.9398197 ,  0.66488528, -0.57532178, -0.63635007],\n        [-0.63319098, -0.39151551,  0.04951286, -0.13610996, -0.41754172]]),\n array([[ 0.22370579, -0.72101228, -0.4157107 , -0.26727631, -0.08786003],\n        [ 0.57035192, -0.60065244,  0.02846888,  0.18482914, -0.90709917],\n        [ 0.2150897 , -0.65895175, -0.86989681,  0.89777107,  0.93126407],\n        [ 0.6167947 , -0.39077246, -0.80465577,  0.36846605, -0.11969501]])]"
     },
     "metadata": {},
     "execution_count": 45
    }
   ],
   "source": [
    "W # random weights"
   ]
  },
  {
   "cell_type": "code",
   "execution_count": 46,
   "metadata": {
    "scrolled": false,
    "tags": []
   },
   "outputs": [
    {
     "output_type": "stream",
     "name": "stdout",
     "text": "Epoch  0 :  24.8\nEpoch  100 :  24.2\nEpoch  200 :  24.2\n"
    },
    {
     "output_type": "error",
     "ename": "KeyboardInterrupt",
     "evalue": "",
     "traceback": [
      "\u001b[0;31m---------------------------------------------------------------------------\u001b[0m",
      "\u001b[0;31mKeyboardInterrupt\u001b[0m                         Traceback (most recent call last)",
      "\u001b[0;32m<ipython-input-46-9280633cbca0>\u001b[0m in \u001b[0;36m<module>\u001b[0;34m\u001b[0m\n\u001b[1;32m      8\u001b[0m         \u001b[0mv\u001b[0m \u001b[0;34m=\u001b[0m \u001b[0;34m[\u001b[0m\u001b[0;34m]\u001b[0m\u001b[0;34m\u001b[0m\u001b[0;34m\u001b[0m\u001b[0m\n\u001b[1;32m      9\u001b[0m         \u001b[0;32mfor\u001b[0m \u001b[0mr\u001b[0m \u001b[0;32min\u001b[0m \u001b[0mrange\u001b[0m\u001b[0;34m(\u001b[0m\u001b[0mL\u001b[0m\u001b[0;34m)\u001b[0m\u001b[0;34m:\u001b[0m\u001b[0;34m\u001b[0m\u001b[0;34m\u001b[0m\u001b[0m\n\u001b[0;32m---> 10\u001b[0;31m             \u001b[0mv_r\u001b[0m \u001b[0;34m=\u001b[0m \u001b[0mnp\u001b[0m\u001b[0;34m.\u001b[0m\u001b[0mzeros\u001b[0m\u001b[0;34m(\u001b[0m\u001b[0mk\u001b[0m\u001b[0;34m[\u001b[0m\u001b[0mr\u001b[0m\u001b[0;34m]\u001b[0m\u001b[0;34m)\u001b[0m\u001b[0;34m\u001b[0m\u001b[0;34m\u001b[0m\u001b[0m\n\u001b[0m\u001b[1;32m     11\u001b[0m             \u001b[0;32mfor\u001b[0m \u001b[0mj\u001b[0m \u001b[0;32min\u001b[0m \u001b[0mrange\u001b[0m\u001b[0;34m(\u001b[0m\u001b[0mk\u001b[0m\u001b[0;34m[\u001b[0m\u001b[0mr\u001b[0m\u001b[0;34m]\u001b[0m\u001b[0;34m)\u001b[0m\u001b[0;34m:\u001b[0m\u001b[0;34m\u001b[0m\u001b[0;34m\u001b[0m\u001b[0m\n\u001b[1;32m     12\u001b[0m                 \u001b[0mv_r\u001b[0m\u001b[0;34m[\u001b[0m\u001b[0mj\u001b[0m\u001b[0;34m]\u001b[0m \u001b[0;34m=\u001b[0m \u001b[0mnp\u001b[0m\u001b[0;34m.\u001b[0m\u001b[0mdot\u001b[0m\u001b[0;34m(\u001b[0m\u001b[0mW\u001b[0m\u001b[0;34m[\u001b[0m\u001b[0mr\u001b[0m\u001b[0;34m]\u001b[0m\u001b[0;34m[\u001b[0m\u001b[0mj\u001b[0m\u001b[0;34m]\u001b[0m\u001b[0;34m,\u001b[0m\u001b[0my_r\u001b[0m\u001b[0;34m)\u001b[0m\u001b[0;34m\u001b[0m\u001b[0;34m\u001b[0m\u001b[0m\n",
      "\u001b[0;31mKeyboardInterrupt\u001b[0m: "
     ]
    }
   ],
   "source": [
    "for epoch in range(5000):\n",
    "    correct = 0\n",
    "    for i in range(N):\n",
    "        #forward propagation\n",
    "        y_r = np.insert(X[i],0,values=1,axis=0)\n",
    "        y = []\n",
    "        y.append(y_r)\n",
    "        v = []\n",
    "        for r in range(L):\n",
    "            v_r = np.zeros(k[r])\n",
    "            for j in range(k[r]):\n",
    "                v_r[j] = np.dot(W[r][j],y_r)\n",
    "            v.append(v_r)\n",
    "            y_r = np.insert(sigmoid(v_r),0,values=1,axis=0)\n",
    "            y.append(y_r)\n",
    "        \n",
    "        # cost calculation\n",
    "        #J += np.sum((y[L][1:]-Y[i])**2,axis=0)\n",
    "            \n",
    "        #back propagation\n",
    "        \n",
    "        if(np.argmax(y[L][1:])==np.argmax(Y[i])):\n",
    "            correct += 1\n",
    "        \n",
    "        delta_L = (Y[i]-y[L][1:])*derivative(v[L-1])\n",
    "        delta = []\n",
    "\n",
    "        for r in range(L):\n",
    "            if(r==L-1):\n",
    "                delta.append(delta_L)\n",
    "            else:\n",
    "                delta.append(np.zeros(k[r]))\n",
    "\n",
    "        for r in range(L-1):\n",
    "            delta_r = []\n",
    "            for j in range(k[L-r-2]):\n",
    "                total = 0\n",
    "                for p in range(k[L-r-1]):\n",
    "                    total += delta[L-r-1][p]*W[L-r-1][p][j]\n",
    "                delta_r.append(total*derivative(v[L-r-2][j]))\n",
    "\n",
    "            delta[L-r-2] = np.array(delta_r)\n",
    "\n",
    "\n",
    "        y = y[:-1]\n",
    "\n",
    "        for r in range(L):\n",
    "            for j in range(k[r]):\n",
    "                W[r][j] = W[r][j] - 0.025*(delta[r][j]*y[r])\n",
    "    \n",
    "    accuracy = (correct/N)*100\n",
    "    \n",
    "    if(epoch%100==0):\n",
    "        print('Epoch ',epoch,': ',accuracy)\n",
    "    if(accuracy > 85):\n",
    "        print('Epoch ',epoch,': ',accuracy)\n",
    "        break"
   ]
  },
  {
   "cell_type": "code",
   "execution_count": 36,
   "metadata": {},
   "outputs": [],
   "source": [
    "file = open('testNN.txt')\n",
    "\n",
    "lines = file.readlines()\n",
    "\n",
    "X = []\n",
    "labels = []\n",
    "\n",
    "for line in lines:\n",
    "    var = [float(x) for x in line.split()]\n",
    "    X.append(var[:-1])\n",
    "    labels.append(int(var[-1]))\n",
    "    \n",
    "number_of_classes = max(labels)\n",
    "N = len(X)\n",
    "\n",
    "Y = np.zeros((N,number_of_classes))\n",
    "\n",
    "for i in range(N):\n",
    "    Y[i,labels[i]-1] = 1\n",
    "    \n",
    "X = np.array(X) \n",
    "Y = np.array(Y)"
   ]
  },
  {
   "cell_type": "code",
   "execution_count": 37,
   "metadata": {
    "tags": []
   },
   "outputs": [
    {
     "output_type": "stream",
     "name": "stdout",
     "text": "Test Accuracy:  88.0\n"
    }
   ],
   "source": [
    "accuracy = 0\n",
    "for i in range(N):\n",
    "    #forward propagation\n",
    "    y_r = np.hstack((np.ones(1),X[i]))\n",
    "    y = []\n",
    "    y.append(y_r)\n",
    "    v = []\n",
    "    for r in range(L):\n",
    "        v_r = np.zeros(k[r])\n",
    "        for j in range(k[r]):\n",
    "            v_r[j] = np.dot(W[r][j],y_r)\n",
    "        v.append(v_r)\n",
    "        y_r = np.hstack((np.ones(1),sigmoid(v_r)))\n",
    "        y.append(y_r)\n",
    "    \n",
    "    if(np.argmax(y[L][1:])==np.argmax(Y[i])):\n",
    "        accuracy += 1\n",
    "\n",
    "print(\"Test Accuracy: \",(accuracy/len(X))*100)"
   ]
  },
  {
   "cell_type": "code",
   "execution_count": 38,
   "metadata": {},
   "outputs": [
    {
     "output_type": "execute_result",
     "data": {
      "text/plain": "[array([[-17.66693344,   0.51586933,   0.28047375,   0.26137091,\n          -0.25632396],\n        [ -0.6859551 ,  -0.86711054,   0.75662744,   0.23513546,\n           0.45704539],\n        [  0.2707426 ,   0.67583899,   0.31488573,  -0.34662097,\n          -0.28160285],\n        [ -0.63393708,  -0.39735838,   0.0406369 ,  -0.1480521 ,\n          -0.43241135]]),\n array([[  1.95072059, -12.78536768,  -0.41602502,  10.10665721,\n           1.6393452 ],\n        [  4.50680528,  -3.18696565,   0.0287035 ,  -4.67659922,\n           3.02918543],\n        [  0.28237592,   1.53371787,  -0.86981716,  -1.20104217,\n           0.99850901],\n        [  0.29117683,   8.47578605,  -0.80460956,  -0.54785576,\n          -0.44532903]])]"
     },
     "metadata": {},
     "execution_count": 38
    }
   ],
   "source": [
    "W"
   ]
  },
  {
   "cell_type": "code",
   "execution_count": null,
   "metadata": {},
   "outputs": [],
   "source": []
  }
 ],
 "metadata": {
  "kernelspec": {
   "display_name": "Python 3",
   "language": "python",
   "name": "python3"
  },
  "language_info": {
   "codemirror_mode": {
    "name": "ipython",
    "version": 3
   },
   "file_extension": ".py",
   "mimetype": "text/x-python",
   "name": "python",
   "nbconvert_exporter": "python",
   "pygments_lexer": "ipython3",
   "version": "3.7.4-final"
  }
 },
 "nbformat": 4,
 "nbformat_minor": 4
}