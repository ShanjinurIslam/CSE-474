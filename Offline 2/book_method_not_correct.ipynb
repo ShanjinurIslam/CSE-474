{
 "cells": [
  {
   "cell_type": "code",
   "execution_count": 96,
   "metadata": {},
   "outputs": [],
   "source": [
    "import numpy as np\n",
    "import pandas as pd \n",
    "import matplotlib.pyplot as plt\n",
    "from sklearn.preprocessing import OneHotEncoder\n",
    "\n",
    "np.random.seed(30)"
   ]
  },
  {
   "cell_type": "code",
   "execution_count": 97,
   "metadata": {},
   "outputs": [],
   "source": [
    "file = open(\"trainNN.txt\")\n",
    "\n",
    "dataset = []\n",
    "\n",
    "lines = file.readlines()\n",
    "for line in lines:\n",
    "    dataset.append([float(x) for x in line.split()])"
   ]
  },
  {
   "cell_type": "code",
   "execution_count": 98,
   "metadata": {},
   "outputs": [],
   "source": [
    "df = pd.DataFrame(data=dataset)"
   ]
  },
  {
   "cell_type": "code",
   "execution_count": 99,
   "metadata": {},
   "outputs": [],
   "source": [
    "X = df.drop(columns=df.columns[-1]).values\n",
    "Y = df[df.columns[-1]]\n",
    "Y = np.array(OneHotEncoder(categories='auto').fit_transform(Y.values.reshape(-1,1)).toarray())"
   ]
  },
  {
   "cell_type": "code",
   "execution_count": 100,
   "metadata": {},
   "outputs": [],
   "source": [
    "input_vector_size = X.shape[1]\n",
    "output_vector_size = Y.shape[1]"
   ]
  },
  {
   "cell_type": "code",
   "execution_count": 101,
   "metadata": {},
   "outputs": [],
   "source": [
    "L = 3 # this can be changed \n",
    "k = np.array([input_vector_size,4,output_vector_size]) # number of neurons each layer can be changed\n",
    "N = len(X) # number of input vectors "
   ]
  },
  {
   "cell_type": "code",
   "execution_count": 102,
   "metadata": {},
   "outputs": [],
   "source": [
    "# defining activation function\n",
    "\n",
    "def sigmoid(z):\n",
    "    return 1/(1+np.exp(-z))\n",
    "\n",
    "def softmax(z):\n",
    "    e = np.exp(y_r)\n",
    "    return (e)/np.sum(e)\n",
    "\n",
    "def derivative(z):\n",
    "    return sigmoid(z)*(1-sigmoid(z))"
   ]
  },
  {
   "cell_type": "markdown",
   "metadata": {},
   "source": [
    "## Using method of Book"
   ]
  },
  {
   "cell_type": "code",
   "execution_count": 103,
   "metadata": {},
   "outputs": [
    {
     "data": {
      "text/plain": [
       "[array([[ 1.44143536, -1.1925151 ,  1.63047905, -3.36349274,  4.62607814],\n",
       "        [-1.5333816 ,  4.91750992, -2.64942104,  0.85694269, -0.93309898],\n",
       "        [-3.63765678,  0.44136288,  0.18176347,  2.66855106,  4.33850143],\n",
       "        [-4.10296617, -3.04228743,  4.94193684, -2.64819502, -2.61013628]]),\n",
       " array([[ 1.29099831,  2.34952577,  1.88344383, -4.68869252,  4.02513843],\n",
       "        [-2.13564672,  0.55612564, -1.23579755, -4.73375635, -0.05850878],\n",
       "        [ 3.34715093, -1.3301267 ,  0.15382112, -0.27620875, -1.13847912],\n",
       "        [ 2.44137004, -1.6475792 ,  0.95438288, -1.83866618, -1.53749576]])]"
      ]
     },
     "execution_count": 103,
     "metadata": {},
     "output_type": "execute_result"
    }
   ],
   "source": [
    "iterations = 100\n",
    "learning_rate = 0.03\n",
    "W = []\n",
    "\n",
    "for i in range(L-1):\n",
    "    W.append(np.random.uniform(-5,5,(k[i+1],k[i]+1)))\n",
    "W"
   ]
  },
  {
   "cell_type": "code",
   "execution_count": 104,
   "metadata": {},
   "outputs": [],
   "source": [
    "ones = np.ones(N).reshape(-1,1)\n",
    "X = np.hstack((ones,X)) # setting yr0 = 1"
   ]
  },
  {
   "cell_type": "code",
   "execution_count": 105,
   "metadata": {},
   "outputs": [],
   "source": [
    "## have to implement loop\n",
    "\n",
    "for each in range(iterations):\n",
    "    J = 0\n",
    "    for i in range(N):\n",
    "        y = []\n",
    "        v = []\n",
    "        y.append(X[i])\n",
    "        yr_1 = X[i] \n",
    "        v_r = 0\n",
    "        for r in range(L-1):\n",
    "            v_r = np.dot(W[r],yr_1)\n",
    "            v.append(v_r)\n",
    "            if(r<L-2):\n",
    "                y_r = sigmoid(v_r)\n",
    "                yr_1 = np.hstack((np.ones(1),y_r))\n",
    "            else:\n",
    "                y_r = softmax(v_r)\n",
    "                yr_1 = np.hstack((np.ones(1),y_r))\n",
    "            y.append(yr_1)\n",
    "        \n",
    "        J+= np.sum((Y[i]-yr_1[1:])**2,axis=0)\n",
    "        delta = (yr_1[1:]-Y[i])*derivative(v_r)\n",
    "        \n",
    "        final_layer = L-2\n",
    "        W[final_layer] = W[final_layer] - learning_rate*delta.reshape(-1,1)*y[final_layer]\n",
    "        \n",
    "        \n",
    "        for r in range(L-2):\n",
    "            prev_layer = final_layer-r-1 \n",
    "            current_layer = final_layer-r\n",
    "            e = np.dot(delta,W[current_layer][:,1:])\n",
    "            delta = e*derivative(v[prev_layer])\n",
    "            W[prev_layer] = W[prev_layer] - learning_rate*(delta.reshape(-1,1))*y[prev_layer]"
   ]
  },
  {
   "cell_type": "code",
   "execution_count": null,
   "metadata": {},
   "outputs": [],
   "source": []
  }
 ],
 "metadata": {
  "kernelspec": {
   "display_name": "Python 3",
   "language": "python",
   "name": "python3"
  },
  "language_info": {
   "codemirror_mode": {
    "name": "ipython",
    "version": 3
   },
   "file_extension": ".py",
   "mimetype": "text/x-python",
   "name": "python",
   "nbconvert_exporter": "python",
   "pygments_lexer": "ipython3",
   "version": "3.7.4"
  }
 },
 "nbformat": 4,
 "nbformat_minor": 2
}
