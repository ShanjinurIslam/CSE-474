{
 "cells": [
  {
   "cell_type": "code",
   "execution_count": 37,
   "metadata": {},
   "outputs": [],
   "source": [
    "import numpy as np\n",
    "import pandas as pd\n",
    "from sklearn.preprocessing import MinMaxScaler"
   ]
  },
  {
   "cell_type": "code",
   "execution_count": 38,
   "metadata": {},
   "outputs": [],
   "source": [
    "# train dataset generation\n",
    "\n",
    "X = []\n",
    "Y = []\n",
    "y = []\n",
    "\n",
    "file = open('trainNN.txt')\n",
    "lines = file.readlines()\n",
    "\n",
    "for line in lines:\n",
    "    var = line.split()\n",
    "    X.append([float(x) for x in var[:-1]])\n",
    "    y.append(int(var[-1]))\n",
    "    \n",
    "unique = len(np.unique(y))\n",
    "for each in y:\n",
    "    arr = np.zeros(unique)\n",
    "    arr[each-1] = 1\n",
    "    Y.append(arr)\n",
    "    \n",
    "X = np.array(X)\n",
    "Y = np.array(Y)"
   ]
  },
  {
   "cell_type": "code",
   "execution_count": 39,
   "metadata": {},
   "outputs": [],
   "source": [
    "# do same for test dataset"
   ]
  },
  {
   "cell_type": "code",
   "execution_count": 40,
   "metadata": {},
   "outputs": [],
   "source": [
    "# Neural Network Construction\n",
    "\n",
    "def sigmoid(x):\n",
    "    return 1/(1+np.exp(-x))\n",
    "\n",
    "# write function for derivative\n",
    "def sigmoid_derivative(x):\n",
    "    # sigmoid(x)*(1-sigmoid(x))\n",
    "    pass"
   ]
  },
  {
   "cell_type": "code",
   "execution_count": 41,
   "metadata": {},
   "outputs": [
    {
     "name": "stdout",
     "output_type": "stream",
     "text": [
      "[4, 4, 4]\n"
     ]
    }
   ],
   "source": [
    "# define variables\n",
    "\n",
    "input_layer_neurons = X.shape[1]\n",
    "output_layer_neurons = Y.shape[1]\n",
    "L = 2 # Number of layers\n",
    "k = [input_layer_neurons,4,output_layer_neurons]\n",
    "\n",
    "print(k)"
   ]
  },
  {
   "cell_type": "code",
   "execution_count": 43,
   "metadata": {},
   "outputs": [
    {
     "data": {
      "text/plain": [
       "array([[0. , 0. , 0. ],\n",
       "       [0.5, 0.5, 0.5],\n",
       "       [1. , 1. , 1. ]])"
      ]
     },
     "execution_count": 43,
     "metadata": {},
     "output_type": "execute_result"
    }
   ],
   "source": [
    "# Data preprocessing\n",
    "\n",
    "# MinMaxScaler\n",
    "\n",
    "# src => https://scikit-learn.org/stable/modules/generated/sklearn.preprocessing.MinMaxScaler.html\n",
    "\n",
    "sample = [[1,2,3],[4,5,6],[7,8,9]]\n",
    "scaler = MinMaxScaler()\n",
    "scaled_sample = scaler.fit_transform(sample)\n",
    "scaled_sample"
   ]
  },
  {
   "cell_type": "code",
   "execution_count": null,
   "metadata": {},
   "outputs": [],
   "source": []
  }
 ],
 "metadata": {
  "kernelspec": {
   "display_name": "Python 3",
   "language": "python",
   "name": "python3"
  },
  "language_info": {
   "codemirror_mode": {
    "name": "ipython",
    "version": 3
   },
   "file_extension": ".py",
   "mimetype": "text/x-python",
   "name": "python",
   "nbconvert_exporter": "python",
   "pygments_lexer": "ipython3",
   "version": "3.7.4"
  }
 },
 "nbformat": 4,
 "nbformat_minor": 2
}
